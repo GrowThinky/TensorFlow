{
 "cells": [
  {
   "cell_type": "markdown",
   "id": "bff69d14",
   "metadata": {},
   "source": []
  },
  {
   "cell_type": "code",
   "execution_count": 1,
   "id": "b6558b2f",
   "metadata": {},
   "outputs": [],
   "source": [
    "import pandas as pd\n",
    "import numpy as np\n",
    "import seaborn as sns\n",
    "\n",
    "import tensorflow as tf\n",
    "import tensorflow_text as text"
   ]
  },
  {
   "cell_type": "code",
   "execution_count": 2,
   "id": "855d3a75",
   "metadata": {},
   "outputs": [],
   "source": [
    "import tensorflow_hub as hub"
   ]
  },
  {
   "cell_type": "code",
   "execution_count": 93,
   "id": "122f9688",
   "metadata": {},
   "outputs": [],
   "source": [
    "import sklearn\n",
    "from official.nlp import optimization  # to create AdamW optimizer"
   ]
  },
  {
   "cell_type": "code",
   "execution_count": 3,
   "id": "36661096",
   "metadata": {},
   "outputs": [],
   "source": [
    "factoid = pd.read_pickle(\"/app/home/heindlc/reddit_corpus_balanced_filtered.gzip\", compression = \"gzip\")"
   ]
  },
  {
   "cell_type": "code",
   "execution_count": 4,
   "id": "59169cbd",
   "metadata": {},
   "outputs": [
    {
     "data": {
      "text/plain": [
       "74"
      ]
     },
     "execution_count": 4,
     "metadata": {},
     "output_type": "execute_result"
    }
   ],
   "source": [
    "factoid[\"pb_factor\"].isnull().sum()"
   ]
  },
  {
   "cell_type": "code",
   "execution_count": 5,
   "id": "41e8cafe",
   "metadata": {},
   "outputs": [],
   "source": [
    "factoid = factoid[~ factoid[\"pb_factor\"].isnull()]"
   ]
  },
  {
   "cell_type": "code",
   "execution_count": 6,
   "id": "316c1d37",
   "metadata": {},
   "outputs": [
    {
     "data": {
      "text/plain": [
       "0"
      ]
     },
     "execution_count": 6,
     "metadata": {},
     "output_type": "execute_result"
    }
   ],
   "source": [
    "factoid[\"pb_factor\"].isnull().sum()"
   ]
  },
  {
   "cell_type": "code",
   "execution_count": 7,
   "id": "2bc11274",
   "metadata": {},
   "outputs": [],
   "source": [
    "data = pd.concat([pd.DataFrame([[row[1], post[1],post[3], row[-4]] for post in row[3]], columns=[\"user_id\", \"post\",\"topic\",\"user_pb\"])\n",
    "                  for row in factoid.itertuples()], ignore_index=True)\n"
   ]
  },
  {
   "cell_type": "code",
   "execution_count": 8,
   "id": "13749bec",
   "metadata": {},
   "outputs": [
    {
     "data": {
      "text/plain": [
       "(3342802, 4)"
      ]
     },
     "execution_count": 8,
     "metadata": {},
     "output_type": "execute_result"
    }
   ],
   "source": [
    "data.shape\n"
   ]
  },
  {
   "cell_type": "code",
   "execution_count": 9,
   "id": "9838ada5",
   "metadata": {},
   "outputs": [
    {
     "data": {
      "text/html": [
       "<div>\n",
       "<style scoped>\n",
       "    .dataframe tbody tr th:only-of-type {\n",
       "        vertical-align: middle;\n",
       "    }\n",
       "\n",
       "    .dataframe tbody tr th {\n",
       "        vertical-align: top;\n",
       "    }\n",
       "\n",
       "    .dataframe thead th {\n",
       "        text-align: right;\n",
       "    }\n",
       "</style>\n",
       "<table border=\"1\" class=\"dataframe\">\n",
       "  <thead>\n",
       "    <tr style=\"text-align: right;\">\n",
       "      <th></th>\n",
       "      <th>user_id</th>\n",
       "      <th>post</th>\n",
       "      <th>topic</th>\n",
       "      <th>user_pb</th>\n",
       "    </tr>\n",
       "  </thead>\n",
       "  <tbody>\n",
       "    <tr>\n",
       "      <th>0</th>\n",
       "      <td>ddf62a134f09db7a6056190d594bd41ff2f4cf04faf5db...</td>\n",
       "      <td>The fact that this has to be explained is what...</td>\n",
       "      <td>r/politics</td>\n",
       "      <td>-0.826087</td>\n",
       "    </tr>\n",
       "  </tbody>\n",
       "</table>\n",
       "</div>"
      ],
      "text/plain": [
       "                                             user_id  \\\n",
       "0  ddf62a134f09db7a6056190d594bd41ff2f4cf04faf5db...   \n",
       "\n",
       "                                                post       topic   user_pb  \n",
       "0  The fact that this has to be explained is what...  r/politics -0.826087  "
      ]
     },
     "execution_count": 9,
     "metadata": {},
     "output_type": "execute_result"
    }
   ],
   "source": [
    "data.head(1)"
   ]
  },
  {
   "cell_type": "code",
   "execution_count": 10,
   "id": "69ba7f5f",
   "metadata": {},
   "outputs": [
    {
     "data": {
      "text/html": [
       "<div>\n",
       "<style scoped>\n",
       "    .dataframe tbody tr th:only-of-type {\n",
       "        vertical-align: middle;\n",
       "    }\n",
       "\n",
       "    .dataframe tbody tr th {\n",
       "        vertical-align: top;\n",
       "    }\n",
       "\n",
       "    .dataframe thead th {\n",
       "        text-align: right;\n",
       "    }\n",
       "</style>\n",
       "<table border=\"1\" class=\"dataframe\">\n",
       "  <thead>\n",
       "    <tr style=\"text-align: right;\">\n",
       "      <th></th>\n",
       "      <th>user_id</th>\n",
       "      <th>post</th>\n",
       "      <th>topic</th>\n",
       "      <th>user_pb</th>\n",
       "      <th>pb_categories</th>\n",
       "    </tr>\n",
       "  </thead>\n",
       "  <tbody>\n",
       "    <tr>\n",
       "      <th>0</th>\n",
       "      <td>ddf62a134f09db7a6056190d594bd41ff2f4cf04faf5db...</td>\n",
       "      <td>The fact that this has to be explained is what...</td>\n",
       "      <td>r/politics</td>\n",
       "      <td>-0.826087</td>\n",
       "      <td>LEFT_CENTER</td>\n",
       "    </tr>\n",
       "    <tr>\n",
       "      <th>1</th>\n",
       "      <td>ddf62a134f09db7a6056190d594bd41ff2f4cf04faf5db...</td>\n",
       "      <td>he's not deteriorating, he just does not care ...</td>\n",
       "      <td>r/politics</td>\n",
       "      <td>-0.826087</td>\n",
       "      <td>LEFT_CENTER</td>\n",
       "    </tr>\n",
       "    <tr>\n",
       "      <th>2</th>\n",
       "      <td>ddf62a134f09db7a6056190d594bd41ff2f4cf04faf5db...</td>\n",
       "      <td>Look, it's now perfectly clear that if he coul...</td>\n",
       "      <td>r/politics</td>\n",
       "      <td>-0.826087</td>\n",
       "      <td>LEFT_CENTER</td>\n",
       "    </tr>\n",
       "    <tr>\n",
       "      <th>3</th>\n",
       "      <td>ddf62a134f09db7a6056190d594bd41ff2f4cf04faf5db...</td>\n",
       "      <td>That's the whole point of this statement. Ther...</td>\n",
       "      <td>r/politics</td>\n",
       "      <td>-0.826087</td>\n",
       "      <td>LEFT_CENTER</td>\n",
       "    </tr>\n",
       "    <tr>\n",
       "      <th>4</th>\n",
       "      <td>ddf62a134f09db7a6056190d594bd41ff2f4cf04faf5db...</td>\n",
       "      <td>I keep seeing that M4A is now just a \"bargaini...</td>\n",
       "      <td>r/politics</td>\n",
       "      <td>-0.826087</td>\n",
       "      <td>LEFT_CENTER</td>\n",
       "    </tr>\n",
       "    <tr>\n",
       "      <th>...</th>\n",
       "      <td>...</td>\n",
       "      <td>...</td>\n",
       "      <td>...</td>\n",
       "      <td>...</td>\n",
       "      <td>...</td>\n",
       "    </tr>\n",
       "    <tr>\n",
       "      <th>3342797</th>\n",
       "      <td>265bde26afcab547a099f352a67bc462851b3d8b1b588c...</td>\n",
       "      <td>They should say yes, that the debate is back o...</td>\n",
       "      <td>r/politics</td>\n",
       "      <td>-0.777778</td>\n",
       "      <td>LEFT_CENTER</td>\n",
       "    </tr>\n",
       "    <tr>\n",
       "      <th>3342798</th>\n",
       "      <td>265bde26afcab547a099f352a67bc462851b3d8b1b588c...</td>\n",
       "      <td>Oil prices is so low... how is this even profi...</td>\n",
       "      <td>r/politics</td>\n",
       "      <td>-0.777778</td>\n",
       "      <td>LEFT_CENTER</td>\n",
       "    </tr>\n",
       "    <tr>\n",
       "      <th>3342799</th>\n",
       "      <td>265bde26afcab547a099f352a67bc462851b3d8b1b588c...</td>\n",
       "      <td>No he wants to win to avoid prison and those c...</td>\n",
       "      <td>r/politics</td>\n",
       "      <td>-0.777778</td>\n",
       "      <td>LEFT_CENTER</td>\n",
       "    </tr>\n",
       "    <tr>\n",
       "      <th>3342800</th>\n",
       "      <td>265bde26afcab547a099f352a67bc462851b3d8b1b588c...</td>\n",
       "      <td>Obviously this is why we need a federal level ...</td>\n",
       "      <td>r/Coronavirus</td>\n",
       "      <td>-0.777778</td>\n",
       "      <td>LEFT_CENTER</td>\n",
       "    </tr>\n",
       "    <tr>\n",
       "      <th>3342801</th>\n",
       "      <td>265bde26afcab547a099f352a67bc462851b3d8b1b588c...</td>\n",
       "      <td>Me too.   I do wonder at what point people are...</td>\n",
       "      <td>r/CoronavirusRecession</td>\n",
       "      <td>-0.777778</td>\n",
       "      <td>LEFT_CENTER</td>\n",
       "    </tr>\n",
       "  </tbody>\n",
       "</table>\n",
       "<p>3342802 rows × 5 columns</p>\n",
       "</div>"
      ],
      "text/plain": [
       "                                                   user_id  \\\n",
       "0        ddf62a134f09db7a6056190d594bd41ff2f4cf04faf5db...   \n",
       "1        ddf62a134f09db7a6056190d594bd41ff2f4cf04faf5db...   \n",
       "2        ddf62a134f09db7a6056190d594bd41ff2f4cf04faf5db...   \n",
       "3        ddf62a134f09db7a6056190d594bd41ff2f4cf04faf5db...   \n",
       "4        ddf62a134f09db7a6056190d594bd41ff2f4cf04faf5db...   \n",
       "...                                                    ...   \n",
       "3342797  265bde26afcab547a099f352a67bc462851b3d8b1b588c...   \n",
       "3342798  265bde26afcab547a099f352a67bc462851b3d8b1b588c...   \n",
       "3342799  265bde26afcab547a099f352a67bc462851b3d8b1b588c...   \n",
       "3342800  265bde26afcab547a099f352a67bc462851b3d8b1b588c...   \n",
       "3342801  265bde26afcab547a099f352a67bc462851b3d8b1b588c...   \n",
       "\n",
       "                                                      post  \\\n",
       "0        The fact that this has to be explained is what...   \n",
       "1        he's not deteriorating, he just does not care ...   \n",
       "2        Look, it's now perfectly clear that if he coul...   \n",
       "3        That's the whole point of this statement. Ther...   \n",
       "4        I keep seeing that M4A is now just a \"bargaini...   \n",
       "...                                                    ...   \n",
       "3342797  They should say yes, that the debate is back o...   \n",
       "3342798  Oil prices is so low... how is this even profi...   \n",
       "3342799  No he wants to win to avoid prison and those c...   \n",
       "3342800  Obviously this is why we need a federal level ...   \n",
       "3342801  Me too.   I do wonder at what point people are...   \n",
       "\n",
       "                          topic   user_pb pb_categories  \n",
       "0                    r/politics -0.826087   LEFT_CENTER  \n",
       "1                    r/politics -0.826087   LEFT_CENTER  \n",
       "2                    r/politics -0.826087   LEFT_CENTER  \n",
       "3                    r/politics -0.826087   LEFT_CENTER  \n",
       "4                    r/politics -0.826087   LEFT_CENTER  \n",
       "...                         ...       ...           ...  \n",
       "3342797              r/politics -0.777778   LEFT_CENTER  \n",
       "3342798              r/politics -0.777778   LEFT_CENTER  \n",
       "3342799              r/politics -0.777778   LEFT_CENTER  \n",
       "3342800           r/Coronavirus -0.777778   LEFT_CENTER  \n",
       "3342801  r/CoronavirusRecession -0.777778   LEFT_CENTER  \n",
       "\n",
       "[3342802 rows x 5 columns]"
      ]
     },
     "execution_count": 10,
     "metadata": {},
     "output_type": "execute_result"
    }
   ],
   "source": [
    "data_cats = data.copy()\n",
    "data_cats[\"pb_categories\"] = pd.cut(data_cats[\"user_pb\"],\n",
    "       [-3,-1.5,0,1.5,3], include_lowest=True,labels=[\"EXTREME_LEFT\", \"LEFT_CENTER\",\"RIGHT_CENTER\",\"EXTREME_RIGHT\"])\n",
    "data_cats"
   ]
  },
  {
   "cell_type": "code",
   "execution_count": 11,
   "id": "2f8e1345",
   "metadata": {},
   "outputs": [
    {
     "name": "stderr",
     "output_type": "stream",
     "text": [
      "/app/home/heindlc/anaconda3/envs/tf/lib/python3.9/site-packages/seaborn/_decorators.py:36: FutureWarning: Pass the following variable as a keyword arg: x. From version 0.12, the only valid positional argument will be `data`, and passing other arguments without an explicit keyword will result in an error or misinterpretation.\n",
      "  warnings.warn(\n"
     ]
    },
    {
     "data": {
      "text/plain": [
       "<AxesSubplot:xlabel='pb_categories', ylabel='count'>"
      ]
     },
     "execution_count": 11,
     "metadata": {},
     "output_type": "execute_result"
    },
    {
     "data": {
      "image/png": "[encoded data removed]",
      "text/plain": [
       "<Figure size 432x288 with 1 Axes>"
      ]
     },
     "metadata": {
      "needs_background": "light"
     },
     "output_type": "display_data"
    }
   ],
   "source": [
    "sns.countplot('pb_categories', data=data_cats)"
   ]
  },
  {
   "cell_type": "code",
   "execution_count": 12,
   "id": "23ffb5ad",
   "metadata": {},
   "outputs": [],
   "source": [
    "class_counts = data_cats.pb_categories.value_counts()\n",
    "\n",
    "c4 = data_cats[data_cats['pb_categories'] == \"LEFT_CENTER\"]\n",
    "c3 = data_cats[data_cats['pb_categories'] == \"RIGHT_CENTER\"]\n",
    "c2 = data_cats[data_cats['pb_categories'] == \"EXTREME_LEFT\"]\n",
    "c1 = data_cats[data_cats['pb_categories'] == \"EXTREME_RIGHT\"]"
   ]
  },
  {
   "cell_type": "code",
   "execution_count": 13,
   "id": "cb30cc0c",
   "metadata": {},
   "outputs": [
    {
     "data": {
      "text/plain": [
       "LEFT_CENTER      2836082\n",
       "RIGHT_CENTER      440683\n",
       "EXTREME_RIGHT      48958\n",
       "EXTREME_LEFT       17079\n",
       "Name: pb_categories, dtype: int64"
      ]
     },
     "execution_count": 13,
     "metadata": {},
     "output_type": "execute_result"
    }
   ],
   "source": [
    "class_counts"
   ]
  },
  {
   "cell_type": "code",
   "execution_count": 14,
   "id": "08af5685",
   "metadata": {},
   "outputs": [],
   "source": [
    "c3 = c3.sample(class_counts[\"EXTREME_RIGHT\"])   \n",
    "c4 = c4.sample(class_counts[\"EXTREME_LEFT\"])\n",
    "data_balanced = pd.concat([c1,c2,c3,c4],axis=0 )"
   ]
  },
  {
   "cell_type": "code",
   "execution_count": 15,
   "id": "bf197e7b",
   "metadata": {},
   "outputs": [
    {
     "name": "stderr",
     "output_type": "stream",
     "text": [
      "/app/home/heindlc/anaconda3/envs/tf/lib/python3.9/site-packages/seaborn/_decorators.py:36: FutureWarning: Pass the following variable as a keyword arg: x. From version 0.12, the only valid positional argument will be `data`, and passing other arguments without an explicit keyword will result in an error or misinterpretation.\n",
      "  warnings.warn(\n"
     ]
    },
    {
     "data": {
      "text/plain": [
       "<AxesSubplot:xlabel='pb_categories', ylabel='count'>"
      ]
     },
     "execution_count": 15,
     "metadata": {},
     "output_type": "execute_result"
    },
    {
     "data": {
      "image/png": "[encoded data removed]",
      "text/plain": [
       "<Figure size 432x288 with 1 Axes>"
      ]
     },
     "metadata": {
      "needs_background": "light"
     },
     "output_type": "display_data"
    }
   ],
   "source": [
    "sns.countplot('pb_categories', data=data_balanced)"
   ]
  },
  {
   "cell_type": "code",
   "execution_count": 107,
   "id": "690872fe",
   "metadata": {},
   "outputs": [],
   "source": [
    "def binaryfy(label):\n",
    "    if label in [\"EXTREME_LEFT\",\"EXTREME_RIGHT\"]:\n",
    "        return \"1\"\n",
    "    else: \n",
    "        return \"0\""
   ]
  },
  {
   "cell_type": "code",
   "execution_count": 108,
   "id": "3757c8fb",
   "metadata": {},
   "outputs": [],
   "source": [
    "data_binary = data_balanced.copy()\n",
    "#df[\"Labels\"] = df[\"Score\"].apply(lambda score: map_score(score))\n",
    "data_binary[\"pb_binary\"] = data_binary[\"pb_categories\"].apply(lambda label: binaryfy(label))"
   ]
  },
  {
   "cell_type": "code",
   "execution_count": 109,
   "id": "898927b2",
   "metadata": {},
   "outputs": [
    {
     "name": "stderr",
     "output_type": "stream",
     "text": [
      "/app/home/heindlc/anaconda3/envs/tf/lib/python3.9/site-packages/seaborn/_decorators.py:36: FutureWarning: Pass the following variable as a keyword arg: x. From version 0.12, the only valid positional argument will be `data`, and passing other arguments without an explicit keyword will result in an error or misinterpretation.\n",
      "  warnings.warn(\n"
     ]
    },
    {
     "data": {
      "text/plain": [
       "<AxesSubplot:xlabel='pb_binary', ylabel='count'>"
      ]
     },
     "execution_count": 109,
     "metadata": {},
     "output_type": "execute_result"
    },
    {
     "data": {
      "image/png": "[encoded data removed]",
      "text/plain": [
       "<Figure size 432x288 with 1 Axes>"
      ]
     },
     "metadata": {
      "needs_background": "light"
     },
     "output_type": "display_data"
    }
   ],
   "source": [
    "sns.countplot('pb_binary', data=data_binary)"
   ]
  },
  {
   "cell_type": "code",
   "execution_count": 19,
   "id": "cd475d95",
   "metadata": {},
   "outputs": [],
   "source": [
    "# export LD_LIBRARY_PATH=$LD_LIBRARY_PATH:$CONDA_PREFIX/lib/"
   ]
  },
  {
   "cell_type": "code",
   "execution_count": 20,
   "id": "e277cc70",
   "metadata": {},
   "outputs": [
    {
     "name": "stdout",
     "output_type": "stream",
     "text": [
      "/bin/bash: /app/home/heindlc/anaconda3/lib/libtinfo.so.6: no version information available (required by /bin/bash)\n",
      "[PhysicalDevice(name='/physical_device:GPU:0', device_type='GPU'), PhysicalDevice(name='/physical_device:GPU:1', device_type='GPU'), PhysicalDevice(name='/physical_device:GPU:2', device_type='GPU'), PhysicalDevice(name='/physical_device:GPU:3', device_type='GPU')]\n"
     ]
    }
   ],
   "source": [
    "! python3 -c \"import tensorflow as tf; print(tf.config.list_physical_devices('GPU'))\""
   ]
  },
  {
   "cell_type": "code",
   "execution_count": 110,
   "id": "43766845",
   "metadata": {},
   "outputs": [
    {
     "data": {
      "text/html": [
       "<div>\n",
       "<style scoped>\n",
       "    .dataframe tbody tr th:only-of-type {\n",
       "        vertical-align: middle;\n",
       "    }\n",
       "\n",
       "    .dataframe tbody tr th {\n",
       "        vertical-align: top;\n",
       "    }\n",
       "\n",
       "    .dataframe thead th {\n",
       "        text-align: right;\n",
       "    }\n",
       "</style>\n",
       "<table border=\"1\" class=\"dataframe\">\n",
       "  <thead>\n",
       "    <tr style=\"text-align: right;\">\n",
       "      <th></th>\n",
       "      <th>user_id</th>\n",
       "      <th>post</th>\n",
       "      <th>topic</th>\n",
       "      <th>user_pb</th>\n",
       "      <th>pb_categories</th>\n",
       "      <th>pb_binary</th>\n",
       "    </tr>\n",
       "  </thead>\n",
       "  <tbody>\n",
       "    <tr>\n",
       "      <th>61426</th>\n",
       "      <td>a76ed6c4f319b018700503a50c333028384bf7e9976796...</td>\n",
       "      <td>Biden is a horrible man.  Straight up lying to...</td>\n",
       "      <td>r/Republican</td>\n",
       "      <td>3.0</td>\n",
       "      <td>EXTREME_RIGHT</td>\n",
       "      <td>1</td>\n",
       "    </tr>\n",
       "    <tr>\n",
       "      <th>61427</th>\n",
       "      <td>a76ed6c4f319b018700503a50c333028384bf7e9976796...</td>\n",
       "      <td>The media,FBI, and the big banks, work for the...</td>\n",
       "      <td>r/Republican</td>\n",
       "      <td>3.0</td>\n",
       "      <td>EXTREME_RIGHT</td>\n",
       "      <td>1</td>\n",
       "    </tr>\n",
       "    <tr>\n",
       "      <th>61428</th>\n",
       "      <td>a76ed6c4f319b018700503a50c333028384bf7e9976796...</td>\n",
       "      <td>#NIGHTMARES</td>\n",
       "      <td>r/Republican</td>\n",
       "      <td>3.0</td>\n",
       "      <td>EXTREME_RIGHT</td>\n",
       "      <td>1</td>\n",
       "    </tr>\n",
       "  </tbody>\n",
       "</table>\n",
       "</div>"
      ],
      "text/plain": [
       "                                                 user_id  \\\n",
       "61426  a76ed6c4f319b018700503a50c333028384bf7e9976796...   \n",
       "61427  a76ed6c4f319b018700503a50c333028384bf7e9976796...   \n",
       "61428  a76ed6c4f319b018700503a50c333028384bf7e9976796...   \n",
       "\n",
       "                                                    post         topic  \\\n",
       "61426  Biden is a horrible man.  Straight up lying to...  r/Republican   \n",
       "61427  The media,FBI, and the big banks, work for the...  r/Republican   \n",
       "61428                                        #NIGHTMARES  r/Republican   \n",
       "\n",
       "       user_pb  pb_categories pb_binary  \n",
       "61426      3.0  EXTREME_RIGHT         1  \n",
       "61427      3.0  EXTREME_RIGHT         1  \n",
       "61428      3.0  EXTREME_RIGHT         1  "
      ]
     },
     "execution_count": 110,
     "metadata": {},
     "output_type": "execute_result"
    }
   ],
   "source": [
    "data_binary.head(3)"
   ]
  },
  {
   "cell_type": "code",
   "execution_count": 117,
   "id": "8bc97ac2",
   "metadata": {},
   "outputs": [],
   "source": [
    "tf_data = data_binary[[\"post\", \"pb_binary\"]]"
   ]
  },
  {
   "cell_type": "code",
   "execution_count": 112,
   "id": "fb41f80e",
   "metadata": {},
   "outputs": [],
   "source": [
    "#tf_data = tf.convert_to_tensor(tf_data)\n"
   ]
  },
  {
   "cell_type": "code",
   "execution_count": 118,
   "id": "0606c639",
   "metadata": {},
   "outputs": [
    {
     "data": {
      "text/html": [
       "<div>\n",
       "<style scoped>\n",
       "    .dataframe tbody tr th:only-of-type {\n",
       "        vertical-align: middle;\n",
       "    }\n",
       "\n",
       "    .dataframe tbody tr th {\n",
       "        vertical-align: top;\n",
       "    }\n",
       "\n",
       "    .dataframe thead th {\n",
       "        text-align: right;\n",
       "    }\n",
       "</style>\n",
       "<table border=\"1\" class=\"dataframe\">\n",
       "  <thead>\n",
       "    <tr style=\"text-align: right;\">\n",
       "      <th></th>\n",
       "      <th>post</th>\n",
       "      <th>pb_binary</th>\n",
       "    </tr>\n",
       "  </thead>\n",
       "  <tbody>\n",
       "    <tr>\n",
       "      <th>61426</th>\n",
       "      <td>Biden is a horrible man.  Straight up lying to...</td>\n",
       "      <td>1</td>\n",
       "    </tr>\n",
       "    <tr>\n",
       "      <th>61427</th>\n",
       "      <td>The media,FBI, and the big banks, work for the...</td>\n",
       "      <td>1</td>\n",
       "    </tr>\n",
       "    <tr>\n",
       "      <th>61428</th>\n",
       "      <td>#NIGHTMARES</td>\n",
       "      <td>1</td>\n",
       "    </tr>\n",
       "    <tr>\n",
       "      <th>61429</th>\n",
       "      <td>That’s not even the bad video. Gnews.org is re...</td>\n",
       "      <td>1</td>\n",
       "    </tr>\n",
       "    <tr>\n",
       "      <th>61430</th>\n",
       "      <td>Wish the FBI would too. So much ignored corrup...</td>\n",
       "      <td>1</td>\n",
       "    </tr>\n",
       "    <tr>\n",
       "      <th>...</th>\n",
       "      <td>...</td>\n",
       "      <td>...</td>\n",
       "    </tr>\n",
       "    <tr>\n",
       "      <th>1077781</th>\n",
       "      <td>Which financial crime was he testifying about ...</td>\n",
       "      <td>0</td>\n",
       "    </tr>\n",
       "    <tr>\n",
       "      <th>3173639</th>\n",
       "      <td>Anecdotal for sure, but enough anecdotes and t...</td>\n",
       "      <td>0</td>\n",
       "    </tr>\n",
       "    <tr>\n",
       "      <th>3138619</th>\n",
       "      <td>I pay a *little* attention to their trends. Bu...</td>\n",
       "      <td>0</td>\n",
       "    </tr>\n",
       "    <tr>\n",
       "      <th>634191</th>\n",
       "      <td>Everybody wants to go down in history as someo...</td>\n",
       "      <td>0</td>\n",
       "    </tr>\n",
       "    <tr>\n",
       "      <th>2778939</th>\n",
       "      <td>Nikki Haley is just as responsible for the shi...</td>\n",
       "      <td>0</td>\n",
       "    </tr>\n",
       "  </tbody>\n",
       "</table>\n",
       "<p>132074 rows × 2 columns</p>\n",
       "</div>"
      ],
      "text/plain": [
       "                                                      post pb_binary\n",
       "61426    Biden is a horrible man.  Straight up lying to...         1\n",
       "61427    The media,FBI, and the big banks, work for the...         1\n",
       "61428                                          #NIGHTMARES         1\n",
       "61429    That’s not even the bad video. Gnews.org is re...         1\n",
       "61430    Wish the FBI would too. So much ignored corrup...         1\n",
       "...                                                    ...       ...\n",
       "1077781  Which financial crime was he testifying about ...         0\n",
       "3173639  Anecdotal for sure, but enough anecdotes and t...         0\n",
       "3138619  I pay a *little* attention to their trends. Bu...         0\n",
       "634191   Everybody wants to go down in history as someo...         0\n",
       "2778939  Nikki Haley is just as responsible for the shi...         0\n",
       "\n",
       "[132074 rows x 2 columns]"
      ]
     },
     "execution_count": 118,
     "metadata": {},
     "output_type": "execute_result"
    }
   ],
   "source": [
    "tf_data\n"
   ]
  },
  {
   "cell_type": "code",
   "execution_count": 119,
   "id": "037dfacb",
   "metadata": {},
   "outputs": [
    {
     "data": {
      "text/html": [
       "<div>\n",
       "<style scoped>\n",
       "    .dataframe tbody tr th:only-of-type {\n",
       "        vertical-align: middle;\n",
       "    }\n",
       "\n",
       "    .dataframe tbody tr th {\n",
       "        vertical-align: top;\n",
       "    }\n",
       "\n",
       "    .dataframe thead th {\n",
       "        text-align: right;\n",
       "    }\n",
       "</style>\n",
       "<table border=\"1\" class=\"dataframe\">\n",
       "  <thead>\n",
       "    <tr style=\"text-align: right;\">\n",
       "      <th></th>\n",
       "      <th>post</th>\n",
       "      <th>pb_binary</th>\n",
       "    </tr>\n",
       "  </thead>\n",
       "  <tbody>\n",
       "    <tr>\n",
       "      <th>61426</th>\n",
       "      <td>Biden is a horrible man.  Straight up lying to...</td>\n",
       "      <td>1</td>\n",
       "    </tr>\n",
       "    <tr>\n",
       "      <th>61427</th>\n",
       "      <td>The media,FBI, and the big banks, work for the...</td>\n",
       "      <td>1</td>\n",
       "    </tr>\n",
       "    <tr>\n",
       "      <th>61428</th>\n",
       "      <td>#NIGHTMARES</td>\n",
       "      <td>1</td>\n",
       "    </tr>\n",
       "    <tr>\n",
       "      <th>61429</th>\n",
       "      <td>That’s not even the bad video. Gnews.org is re...</td>\n",
       "      <td>1</td>\n",
       "    </tr>\n",
       "    <tr>\n",
       "      <th>61430</th>\n",
       "      <td>Wish the FBI would too. So much ignored corrup...</td>\n",
       "      <td>1</td>\n",
       "    </tr>\n",
       "    <tr>\n",
       "      <th>...</th>\n",
       "      <td>...</td>\n",
       "      <td>...</td>\n",
       "    </tr>\n",
       "    <tr>\n",
       "      <th>1077781</th>\n",
       "      <td>Which financial crime was he testifying about ...</td>\n",
       "      <td>0</td>\n",
       "    </tr>\n",
       "    <tr>\n",
       "      <th>3173639</th>\n",
       "      <td>Anecdotal for sure, but enough anecdotes and t...</td>\n",
       "      <td>0</td>\n",
       "    </tr>\n",
       "    <tr>\n",
       "      <th>3138619</th>\n",
       "      <td>I pay a *little* attention to their trends. Bu...</td>\n",
       "      <td>0</td>\n",
       "    </tr>\n",
       "    <tr>\n",
       "      <th>634191</th>\n",
       "      <td>Everybody wants to go down in history as someo...</td>\n",
       "      <td>0</td>\n",
       "    </tr>\n",
       "    <tr>\n",
       "      <th>2778939</th>\n",
       "      <td>Nikki Haley is just as responsible for the shi...</td>\n",
       "      <td>0</td>\n",
       "    </tr>\n",
       "  </tbody>\n",
       "</table>\n",
       "<p>132074 rows × 2 columns</p>\n",
       "</div>"
      ],
      "text/plain": [
       "                                                      post pb_binary\n",
       "61426    Biden is a horrible man.  Straight up lying to...         1\n",
       "61427    The media,FBI, and the big banks, work for the...         1\n",
       "61428                                          #NIGHTMARES         1\n",
       "61429    That’s not even the bad video. Gnews.org is re...         1\n",
       "61430    Wish the FBI would too. So much ignored corrup...         1\n",
       "...                                                    ...       ...\n",
       "1077781  Which financial crime was he testifying about ...         0\n",
       "3173639  Anecdotal for sure, but enough anecdotes and t...         0\n",
       "3138619  I pay a *little* attention to their trends. Bu...         0\n",
       "634191   Everybody wants to go down in history as someo...         0\n",
       "2778939  Nikki Haley is just as responsible for the shi...         0\n",
       "\n",
       "[132074 rows x 2 columns]"
      ]
     },
     "execution_count": 119,
     "metadata": {},
     "output_type": "execute_result"
    }
   ],
   "source": [
    "tf_data"
   ]
  },
  {
   "cell_type": "markdown",
   "id": "b4b0a144",
   "metadata": {},
   "source": [
    "## Convert to TensorFlow Dataset"
   ]
  },
  {
   "cell_type": "code",
   "execution_count": 161,
   "id": "eb060c6a",
   "metadata": {},
   "outputs": [],
   "source": [
    "tf_data = data_binary[[\"post\", \"pb_binary\"]]\n",
    "target = tf_data.pop(\"pb_binary\")\n",
    "\n",
    "#target = data_binary[\"pb_binary\"]\n",
    "\n",
    "#Post,labels = list(train[\"post\"]), list(train.pop(\"pb_binary\"))\n",
    "#dataset = tf.data.Dataset.from_tensor_slices(Post, labels)\n",
    "\n"
   ]
  },
  {
   "cell_type": "code",
   "execution_count": 121,
   "id": "e87fdfb2",
   "metadata": {
    "scrolled": true
   },
   "outputs": [
    {
     "data": {
      "text/html": [
       "<div>\n",
       "<style scoped>\n",
       "    .dataframe tbody tr th:only-of-type {\n",
       "        vertical-align: middle;\n",
       "    }\n",
       "\n",
       "    .dataframe tbody tr th {\n",
       "        vertical-align: top;\n",
       "    }\n",
       "\n",
       "    .dataframe thead th {\n",
       "        text-align: right;\n",
       "    }\n",
       "</style>\n",
       "<table border=\"1\" class=\"dataframe\">\n",
       "  <thead>\n",
       "    <tr style=\"text-align: right;\">\n",
       "      <th></th>\n",
       "      <th>post</th>\n",
       "    </tr>\n",
       "  </thead>\n",
       "  <tbody>\n",
       "    <tr>\n",
       "      <th>61426</th>\n",
       "      <td>Biden is a horrible man.  Straight up lying to...</td>\n",
       "    </tr>\n",
       "    <tr>\n",
       "      <th>61427</th>\n",
       "      <td>The media,FBI, and the big banks, work for the...</td>\n",
       "    </tr>\n",
       "    <tr>\n",
       "      <th>61428</th>\n",
       "      <td>#NIGHTMARES</td>\n",
       "    </tr>\n",
       "    <tr>\n",
       "      <th>61429</th>\n",
       "      <td>That’s not even the bad video. Gnews.org is re...</td>\n",
       "    </tr>\n",
       "    <tr>\n",
       "      <th>61430</th>\n",
       "      <td>Wish the FBI would too. So much ignored corrup...</td>\n",
       "    </tr>\n",
       "    <tr>\n",
       "      <th>...</th>\n",
       "      <td>...</td>\n",
       "    </tr>\n",
       "    <tr>\n",
       "      <th>1077781</th>\n",
       "      <td>Which financial crime was he testifying about ...</td>\n",
       "    </tr>\n",
       "    <tr>\n",
       "      <th>3173639</th>\n",
       "      <td>Anecdotal for sure, but enough anecdotes and t...</td>\n",
       "    </tr>\n",
       "    <tr>\n",
       "      <th>3138619</th>\n",
       "      <td>I pay a *little* attention to their trends. Bu...</td>\n",
       "    </tr>\n",
       "    <tr>\n",
       "      <th>634191</th>\n",
       "      <td>Everybody wants to go down in history as someo...</td>\n",
       "    </tr>\n",
       "    <tr>\n",
       "      <th>2778939</th>\n",
       "      <td>Nikki Haley is just as responsible for the shi...</td>\n",
       "    </tr>\n",
       "  </tbody>\n",
       "</table>\n",
       "<p>132074 rows × 1 columns</p>\n",
       "</div>"
      ],
      "text/plain": [
       "                                                      post\n",
       "61426    Biden is a horrible man.  Straight up lying to...\n",
       "61427    The media,FBI, and the big banks, work for the...\n",
       "61428                                          #NIGHTMARES\n",
       "61429    That’s not even the bad video. Gnews.org is re...\n",
       "61430    Wish the FBI would too. So much ignored corrup...\n",
       "...                                                    ...\n",
       "1077781  Which financial crime was he testifying about ...\n",
       "3173639  Anecdotal for sure, but enough anecdotes and t...\n",
       "3138619  I pay a *little* attention to their trends. Bu...\n",
       "634191   Everybody wants to go down in history as someo...\n",
       "2778939  Nikki Haley is just as responsible for the shi...\n",
       "\n",
       "[132074 rows x 1 columns]"
      ]
     },
     "execution_count": 121,
     "metadata": {},
     "output_type": "execute_result"
    }
   ],
   "source": [
    "tf_data"
   ]
  },
  {
   "cell_type": "code",
   "execution_count": 162,
   "id": "ad0d4e0d",
   "metadata": {},
   "outputs": [
    {
     "data": {
      "text/plain": [
       "61426      1\n",
       "61427      1\n",
       "61428      1\n",
       "61429      1\n",
       "61430      1\n",
       "          ..\n",
       "1077781    0\n",
       "3173639    0\n",
       "3138619    0\n",
       "634191     0\n",
       "2778939    0\n",
       "Name: pb_binary, Length: 132074, dtype: object"
      ]
     },
     "execution_count": 162,
     "metadata": {},
     "output_type": "execute_result"
    }
   ],
   "source": [
    "target"
   ]
  },
  {
   "cell_type": "code",
   "execution_count": 167,
   "id": "eaa5f78d",
   "metadata": {},
   "outputs": [],
   "source": [
    "target = np.asarray(target).astype('int32').reshape((-1,1))"
   ]
  },
  {
   "cell_type": "code",
   "execution_count": 168,
   "id": "6f9b642a",
   "metadata": {},
   "outputs": [
    {
     "data": {
      "text/plain": [
       "array([[1],\n",
       "       [1],\n",
       "       [1],\n",
       "       ...,\n",
       "       [0],\n",
       "       [0],\n",
       "       [0]], dtype=int32)"
      ]
     },
     "execution_count": 168,
     "metadata": {},
     "output_type": "execute_result"
    }
   ],
   "source": [
    "target"
   ]
  },
  {
   "cell_type": "code",
   "execution_count": 154,
   "id": "fefec736",
   "metadata": {},
   "outputs": [
    {
     "data": {
      "text/html": [
       "<div>\n",
       "<style scoped>\n",
       "    .dataframe tbody tr th:only-of-type {\n",
       "        vertical-align: middle;\n",
       "    }\n",
       "\n",
       "    .dataframe tbody tr th {\n",
       "        vertical-align: top;\n",
       "    }\n",
       "\n",
       "    .dataframe thead th {\n",
       "        text-align: right;\n",
       "    }\n",
       "</style>\n",
       "<table border=\"1\" class=\"dataframe\">\n",
       "  <thead>\n",
       "    <tr style=\"text-align: right;\">\n",
       "      <th></th>\n",
       "      <th>post</th>\n",
       "    </tr>\n",
       "  </thead>\n",
       "  <tbody>\n",
       "    <tr>\n",
       "      <th>61426</th>\n",
       "      <td>Biden is a horrible man.  Straight up lying to...</td>\n",
       "    </tr>\n",
       "    <tr>\n",
       "      <th>61427</th>\n",
       "      <td>The media,FBI, and the big banks, work for the...</td>\n",
       "    </tr>\n",
       "    <tr>\n",
       "      <th>61428</th>\n",
       "      <td>#NIGHTMARES</td>\n",
       "    </tr>\n",
       "    <tr>\n",
       "      <th>61429</th>\n",
       "      <td>That’s not even the bad video. Gnews.org is re...</td>\n",
       "    </tr>\n",
       "    <tr>\n",
       "      <th>61430</th>\n",
       "      <td>Wish the FBI would too. So much ignored corrup...</td>\n",
       "    </tr>\n",
       "    <tr>\n",
       "      <th>...</th>\n",
       "      <td>...</td>\n",
       "    </tr>\n",
       "    <tr>\n",
       "      <th>1077781</th>\n",
       "      <td>Which financial crime was he testifying about ...</td>\n",
       "    </tr>\n",
       "    <tr>\n",
       "      <th>3173639</th>\n",
       "      <td>Anecdotal for sure, but enough anecdotes and t...</td>\n",
       "    </tr>\n",
       "    <tr>\n",
       "      <th>3138619</th>\n",
       "      <td>I pay a *little* attention to their trends. Bu...</td>\n",
       "    </tr>\n",
       "    <tr>\n",
       "      <th>634191</th>\n",
       "      <td>Everybody wants to go down in history as someo...</td>\n",
       "    </tr>\n",
       "    <tr>\n",
       "      <th>2778939</th>\n",
       "      <td>Nikki Haley is just as responsible for the shi...</td>\n",
       "    </tr>\n",
       "  </tbody>\n",
       "</table>\n",
       "<p>132074 rows × 1 columns</p>\n",
       "</div>"
      ],
      "text/plain": [
       "                                                      post\n",
       "61426    Biden is a horrible man.  Straight up lying to...\n",
       "61427    The media,FBI, and the big banks, work for the...\n",
       "61428                                          #NIGHTMARES\n",
       "61429    That’s not even the bad video. Gnews.org is re...\n",
       "61430    Wish the FBI would too. So much ignored corrup...\n",
       "...                                                    ...\n",
       "1077781  Which financial crime was he testifying about ...\n",
       "3173639  Anecdotal for sure, but enough anecdotes and t...\n",
       "3138619  I pay a *little* attention to their trends. Bu...\n",
       "634191   Everybody wants to go down in history as someo...\n",
       "2778939  Nikki Haley is just as responsible for the shi...\n",
       "\n",
       "[132074 rows x 1 columns]"
      ]
     },
     "execution_count": 154,
     "metadata": {},
     "output_type": "execute_result"
    }
   ],
   "source": [
    "tf_data\n"
   ]
  },
  {
   "cell_type": "code",
   "execution_count": 170,
   "id": "3f985c26",
   "metadata": {},
   "outputs": [],
   "source": [
    "dataset = tf.data.Dataset.from_tensor_slices((tf_data.values, target))\n"
   ]
  },
  {
   "cell_type": "code",
   "execution_count": 171,
   "id": "c5cde63b",
   "metadata": {},
   "outputs": [
    {
     "name": "stdout",
     "output_type": "stream",
     "text": [
      "(<tf.Tensor: shape=(1,), dtype=string, numpy=\n",
      "array([b'Biden is a horrible man.  Straight up lying to the Americans. What a clown.'],\n",
      "      dtype=object)>, <tf.Tensor: shape=(1,), dtype=int32, numpy=array([1], dtype=int32)>)\n",
      "(<tf.Tensor: shape=(1,), dtype=string, numpy=\n",
      "array([b'The media,FBI, and the big banks, work for the \\xe2\\x80\\x9cbig guy\\xe2\\x80\\x9d.  Nothing will happen. One big corrupt filthy family. Mexico\\xe2\\x80\\x99s government seems like saints compared to these people.'],\n",
      "      dtype=object)>, <tf.Tensor: shape=(1,), dtype=int32, numpy=array([1], dtype=int32)>)\n",
      "(<tf.Tensor: shape=(1,), dtype=string, numpy=array([b'#NIGHTMARES'], dtype=object)>, <tf.Tensor: shape=(1,), dtype=int32, numpy=array([1], dtype=int32)>)\n"
     ]
    }
   ],
   "source": [
    "for item in dataset.take(3):\n",
    "    print(item)"
   ]
  },
  {
   "cell_type": "markdown",
   "id": "35e6b63d",
   "metadata": {},
   "source": [
    "## Split Dataset"
   ]
  },
  {
   "cell_type": "code",
   "execution_count": 172,
   "id": "65531b8e",
   "metadata": {},
   "outputs": [],
   "source": [
    "def get_dataset_partitions_tf(ds, ds_size, train_split=0.8, val_split=0.1, test_split=0.1, shuffle=True, shuffle_size=10000):\n",
    "    assert (train_split + test_split + val_split) == 1\n",
    "    \n",
    "    if shuffle:\n",
    "        # Specify seed to always have the same split distribution between runs\n",
    "        ds = ds.shuffle(shuffle_size, seed=12)\n",
    "    \n",
    "    train_size = int(train_split * ds_size)\n",
    "    val_size = int(val_split * ds_size)\n",
    "    \n",
    "    train_ds = ds.take(train_size)    \n",
    "    val_ds = ds.skip(train_size).take(val_size)\n",
    "    test_ds = ds.skip(train_size).skip(val_size)\n",
    "    \n",
    "    return train_ds, val_ds, test_ds"
   ]
  },
  {
   "cell_type": "code",
   "execution_count": 173,
   "id": "28172d88",
   "metadata": {},
   "outputs": [],
   "source": [
    "train_ds, val_ds, test_ds = get_dataset_partitions_tf(dataset, len(dataset))"
   ]
  },
  {
   "cell_type": "code",
   "execution_count": 174,
   "id": "f4c020e8",
   "metadata": {},
   "outputs": [
    {
     "data": {
      "text/plain": [
       "<TensorSliceDataset element_spec=(TensorSpec(shape=(1,), dtype=tf.string, name=None), TensorSpec(shape=(1,), dtype=tf.int32, name=None))>"
      ]
     },
     "execution_count": 174,
     "metadata": {},
     "output_type": "execute_result"
    }
   ],
   "source": [
    "dataset"
   ]
  },
  {
   "cell_type": "code",
   "execution_count": null,
   "id": "dca87117",
   "metadata": {},
   "outputs": [],
   "source": []
  },
  {
   "cell_type": "code",
   "execution_count": null,
   "id": "d8ca14c6",
   "metadata": {},
   "outputs": [],
   "source": []
  },
  {
   "cell_type": "code",
   "execution_count": null,
   "id": "b0c2d7f5",
   "metadata": {},
   "outputs": [],
   "source": []
  },
  {
   "cell_type": "code",
   "execution_count": 82,
   "id": "f009bd06",
   "metadata": {},
   "outputs": [],
   "source": [
    "preprocessor = hub.KerasLayer(\n",
    "    \"https://tfhub.dev/tensorflow/bert_en_uncased_preprocess/3\")\n",
    "\n",
    "encoder_loaded = hub.KerasLayer(\n",
    "    \"https://tfhub.dev/tensorflow/bert_en_uncased_L-24_H-1024_A-16/4\",\n",
    "    trainable=True)"
   ]
  },
  {
   "cell_type": "code",
   "execution_count": 176,
   "id": "f79cb003",
   "metadata": {},
   "outputs": [],
   "source": [
    "def build_classifier_model():\n",
    "    text_input = tf.keras.layers.Input(shape=(), dtype=tf.string, name='text')  # shape definition ? () = none ?\n",
    "    preprocessing_layer = hub.KerasLayer(preprocessor, name='preprocessing')\n",
    "    encoder_inputs = preprocessing_layer(text_input)\n",
    "    encoder = hub.KerasLayer(encoder_loaded, trainable=True, name='BERT_encoder')\n",
    "    outputs = encoder(encoder_inputs)\n",
    "    net = outputs['pooled_output']\n",
    "    net = tf.keras.layers.Dropout(0.1)(net)\n",
    "    net = tf.keras.layers.Dense(1, activation=None, name='classifier')(net)\n",
    "    return tf.keras.Model(text_input, net)"
   ]
  },
  {
   "cell_type": "code",
   "execution_count": 177,
   "id": "f69f0680",
   "metadata": {},
   "outputs": [
    {
     "data": {
      "text/plain": [
       "1    he's not deteriorating, he just does not care ...\n",
       "Name: post, dtype: object"
      ]
     },
     "execution_count": 177,
     "metadata": {},
     "output_type": "execute_result"
    }
   ],
   "source": [
    "text_test = data[\"post\"][1:2]\n",
    "text_test"
   ]
  },
  {
   "cell_type": "code",
   "execution_count": 178,
   "id": "d7318db0",
   "metadata": {},
   "outputs": [
    {
     "name": "stdout",
     "output_type": "stream",
     "text": [
      "tf.Tensor([[0.42457566]], shape=(1, 1), dtype=float32)\n"
     ]
    }
   ],
   "source": [
    "classifier_model = build_classifier_model()\n",
    "bert_raw_result = classifier_model(tf.constant(text_test))\n",
    "print(tf.sigmoid(bert_raw_result))"
   ]
  },
  {
   "cell_type": "code",
   "execution_count": 179,
   "id": "345e078c",
   "metadata": {},
   "outputs": [],
   "source": [
    "loss = tf.keras.losses.BinaryCrossentropy(from_logits=True)\n",
    "metrics = tf.metrics.BinaryAccuracy()"
   ]
  },
  {
   "cell_type": "code",
   "execution_count": 180,
   "id": "4248fecb",
   "metadata": {},
   "outputs": [],
   "source": [
    "epochs = 2\n",
    "steps_per_epoch = tf.data.experimental.cardinality(train_ds).numpy()\n",
    "num_train_steps = steps_per_epoch * epochs\n",
    "num_warmup_steps = int(0.1*num_train_steps)\n",
    "\n",
    "init_lr = 3e-5\n",
    "optimizer = optimization.create_optimizer(init_lr=init_lr,\n",
    "                                          num_train_steps=num_train_steps,\n",
    "                                          num_warmup_steps=num_warmup_steps,\n",
    "                                          optimizer_type='adamw')"
   ]
  },
  {
   "cell_type": "code",
   "execution_count": 181,
   "id": "5e6db5ac",
   "metadata": {},
   "outputs": [],
   "source": [
    "classifier_model.compile(optimizer=optimizer,\n",
    "                         loss=loss,\n",
    "                         metrics=metrics)"
   ]
  },
  {
   "cell_type": "code",
   "execution_count": 182,
   "id": "b66fa259",
   "metadata": {},
   "outputs": [
    {
     "name": "stdout",
     "output_type": "stream",
     "text": [
      "Epoch 1/2\n",
      "  7326/105659 [=>............................] - ETA: 2:05:09 - loss: 0.0246 - binary_accuracy: 0.9818"
     ]
    },
    {
     "ename": "KeyboardInterrupt",
     "evalue": "",
     "output_type": "error",
     "traceback": [
      "\u001b[0;31m---------------------------------------------------------------------------\u001b[0m",
      "\u001b[0;31mKeyboardInterrupt\u001b[0m                         Traceback (most recent call last)",
      "Input \u001b[0;32mIn [182]\u001b[0m, in \u001b[0;36m<cell line: 1>\u001b[0;34m()\u001b[0m\n\u001b[0;32m----> 1\u001b[0m history \u001b[38;5;241m=\u001b[39m \u001b[43mclassifier_model\u001b[49m\u001b[38;5;241;43m.\u001b[39;49m\u001b[43mfit\u001b[49m\u001b[43m(\u001b[49m\u001b[43mx\u001b[49m\u001b[38;5;241;43m=\u001b[39;49m\u001b[43mtrain_ds\u001b[49m\u001b[43m,\u001b[49m\n\u001b[1;32m      2\u001b[0m \u001b[43m                               \u001b[49m\u001b[43mvalidation_data\u001b[49m\u001b[38;5;241;43m=\u001b[39;49m\u001b[43mval_ds\u001b[49m\u001b[43m,\u001b[49m\n\u001b[1;32m      3\u001b[0m \u001b[43m                               \u001b[49m\u001b[43mepochs\u001b[49m\u001b[38;5;241;43m=\u001b[39;49m\u001b[43mepochs\u001b[49m\u001b[43m)\u001b[49m\n",
      "File \u001b[0;32m~/anaconda3/envs/tf/lib/python3.9/site-packages/keras/utils/traceback_utils.py:64\u001b[0m, in \u001b[0;36mfilter_traceback.<locals>.error_handler\u001b[0;34m(*args, **kwargs)\u001b[0m\n\u001b[1;32m     62\u001b[0m filtered_tb \u001b[38;5;241m=\u001b[39m \u001b[38;5;28;01mNone\u001b[39;00m\n\u001b[1;32m     63\u001b[0m \u001b[38;5;28;01mtry\u001b[39;00m:\n\u001b[0;32m---> 64\u001b[0m   \u001b[38;5;28;01mreturn\u001b[39;00m \u001b[43mfn\u001b[49m\u001b[43m(\u001b[49m\u001b[38;5;241;43m*\u001b[39;49m\u001b[43margs\u001b[49m\u001b[43m,\u001b[49m\u001b[43m \u001b[49m\u001b[38;5;241;43m*\u001b[39;49m\u001b[38;5;241;43m*\u001b[39;49m\u001b[43mkwargs\u001b[49m\u001b[43m)\u001b[49m\n\u001b[1;32m     65\u001b[0m \u001b[38;5;28;01mexcept\u001b[39;00m \u001b[38;5;167;01mException\u001b[39;00m \u001b[38;5;28;01mas\u001b[39;00m e:  \u001b[38;5;66;03m# pylint: disable=broad-except\u001b[39;00m\n\u001b[1;32m     66\u001b[0m   filtered_tb \u001b[38;5;241m=\u001b[39m _process_traceback_frames(e\u001b[38;5;241m.\u001b[39m__traceback__)\n",
      "File \u001b[0;32m~/anaconda3/envs/tf/lib/python3.9/site-packages/keras/engine/training.py:1409\u001b[0m, in \u001b[0;36mModel.fit\u001b[0;34m(self, x, y, batch_size, epochs, verbose, callbacks, validation_split, validation_data, shuffle, class_weight, sample_weight, initial_epoch, steps_per_epoch, validation_steps, validation_batch_size, validation_freq, max_queue_size, workers, use_multiprocessing)\u001b[0m\n\u001b[1;32m   1402\u001b[0m \u001b[38;5;28;01mwith\u001b[39;00m tf\u001b[38;5;241m.\u001b[39mprofiler\u001b[38;5;241m.\u001b[39mexperimental\u001b[38;5;241m.\u001b[39mTrace(\n\u001b[1;32m   1403\u001b[0m     \u001b[38;5;124m'\u001b[39m\u001b[38;5;124mtrain\u001b[39m\u001b[38;5;124m'\u001b[39m,\n\u001b[1;32m   1404\u001b[0m     epoch_num\u001b[38;5;241m=\u001b[39mepoch,\n\u001b[1;32m   1405\u001b[0m     step_num\u001b[38;5;241m=\u001b[39mstep,\n\u001b[1;32m   1406\u001b[0m     batch_size\u001b[38;5;241m=\u001b[39mbatch_size,\n\u001b[1;32m   1407\u001b[0m     _r\u001b[38;5;241m=\u001b[39m\u001b[38;5;241m1\u001b[39m):\n\u001b[1;32m   1408\u001b[0m   callbacks\u001b[38;5;241m.\u001b[39mon_train_batch_begin(step)\n\u001b[0;32m-> 1409\u001b[0m   tmp_logs \u001b[38;5;241m=\u001b[39m \u001b[38;5;28;43mself\u001b[39;49m\u001b[38;5;241;43m.\u001b[39;49m\u001b[43mtrain_function\u001b[49m\u001b[43m(\u001b[49m\u001b[43miterator\u001b[49m\u001b[43m)\u001b[49m\n\u001b[1;32m   1410\u001b[0m   \u001b[38;5;28;01mif\u001b[39;00m data_handler\u001b[38;5;241m.\u001b[39mshould_sync:\n\u001b[1;32m   1411\u001b[0m     context\u001b[38;5;241m.\u001b[39masync_wait()\n",
      "File \u001b[0;32m~/anaconda3/envs/tf/lib/python3.9/site-packages/tensorflow/python/util/traceback_utils.py:150\u001b[0m, in \u001b[0;36mfilter_traceback.<locals>.error_handler\u001b[0;34m(*args, **kwargs)\u001b[0m\n\u001b[1;32m    148\u001b[0m filtered_tb \u001b[38;5;241m=\u001b[39m \u001b[38;5;28;01mNone\u001b[39;00m\n\u001b[1;32m    149\u001b[0m \u001b[38;5;28;01mtry\u001b[39;00m:\n\u001b[0;32m--> 150\u001b[0m   \u001b[38;5;28;01mreturn\u001b[39;00m \u001b[43mfn\u001b[49m\u001b[43m(\u001b[49m\u001b[38;5;241;43m*\u001b[39;49m\u001b[43margs\u001b[49m\u001b[43m,\u001b[49m\u001b[43m \u001b[49m\u001b[38;5;241;43m*\u001b[39;49m\u001b[38;5;241;43m*\u001b[39;49m\u001b[43mkwargs\u001b[49m\u001b[43m)\u001b[49m\n\u001b[1;32m    151\u001b[0m \u001b[38;5;28;01mexcept\u001b[39;00m \u001b[38;5;167;01mException\u001b[39;00m \u001b[38;5;28;01mas\u001b[39;00m e:\n\u001b[1;32m    152\u001b[0m   filtered_tb \u001b[38;5;241m=\u001b[39m _process_traceback_frames(e\u001b[38;5;241m.\u001b[39m__traceback__)\n",
      "File \u001b[0;32m~/anaconda3/envs/tf/lib/python3.9/site-packages/tensorflow/python/eager/def_function.py:915\u001b[0m, in \u001b[0;36mFunction.__call__\u001b[0;34m(self, *args, **kwds)\u001b[0m\n\u001b[1;32m    912\u001b[0m compiler \u001b[38;5;241m=\u001b[39m \u001b[38;5;124m\"\u001b[39m\u001b[38;5;124mxla\u001b[39m\u001b[38;5;124m\"\u001b[39m \u001b[38;5;28;01mif\u001b[39;00m \u001b[38;5;28mself\u001b[39m\u001b[38;5;241m.\u001b[39m_jit_compile \u001b[38;5;28;01melse\u001b[39;00m \u001b[38;5;124m\"\u001b[39m\u001b[38;5;124mnonXla\u001b[39m\u001b[38;5;124m\"\u001b[39m\n\u001b[1;32m    914\u001b[0m \u001b[38;5;28;01mwith\u001b[39;00m OptionalXlaContext(\u001b[38;5;28mself\u001b[39m\u001b[38;5;241m.\u001b[39m_jit_compile):\n\u001b[0;32m--> 915\u001b[0m   result \u001b[38;5;241m=\u001b[39m \u001b[38;5;28;43mself\u001b[39;49m\u001b[38;5;241;43m.\u001b[39;49m\u001b[43m_call\u001b[49m\u001b[43m(\u001b[49m\u001b[38;5;241;43m*\u001b[39;49m\u001b[43margs\u001b[49m\u001b[43m,\u001b[49m\u001b[43m \u001b[49m\u001b[38;5;241;43m*\u001b[39;49m\u001b[38;5;241;43m*\u001b[39;49m\u001b[43mkwds\u001b[49m\u001b[43m)\u001b[49m\n\u001b[1;32m    917\u001b[0m new_tracing_count \u001b[38;5;241m=\u001b[39m \u001b[38;5;28mself\u001b[39m\u001b[38;5;241m.\u001b[39mexperimental_get_tracing_count()\n\u001b[1;32m    918\u001b[0m without_tracing \u001b[38;5;241m=\u001b[39m (tracing_count \u001b[38;5;241m==\u001b[39m new_tracing_count)\n",
      "File \u001b[0;32m~/anaconda3/envs/tf/lib/python3.9/site-packages/tensorflow/python/eager/def_function.py:947\u001b[0m, in \u001b[0;36mFunction._call\u001b[0;34m(self, *args, **kwds)\u001b[0m\n\u001b[1;32m    944\u001b[0m   \u001b[38;5;28mself\u001b[39m\u001b[38;5;241m.\u001b[39m_lock\u001b[38;5;241m.\u001b[39mrelease()\n\u001b[1;32m    945\u001b[0m   \u001b[38;5;66;03m# In this case we have created variables on the first call, so we run the\u001b[39;00m\n\u001b[1;32m    946\u001b[0m   \u001b[38;5;66;03m# defunned version which is guaranteed to never create variables.\u001b[39;00m\n\u001b[0;32m--> 947\u001b[0m   \u001b[38;5;28;01mreturn\u001b[39;00m \u001b[38;5;28;43mself\u001b[39;49m\u001b[38;5;241;43m.\u001b[39;49m\u001b[43m_stateless_fn\u001b[49m\u001b[43m(\u001b[49m\u001b[38;5;241;43m*\u001b[39;49m\u001b[43margs\u001b[49m\u001b[43m,\u001b[49m\u001b[43m \u001b[49m\u001b[38;5;241;43m*\u001b[39;49m\u001b[38;5;241;43m*\u001b[39;49m\u001b[43mkwds\u001b[49m\u001b[43m)\u001b[49m  \u001b[38;5;66;03m# pylint: disable=not-callable\u001b[39;00m\n\u001b[1;32m    948\u001b[0m \u001b[38;5;28;01melif\u001b[39;00m \u001b[38;5;28mself\u001b[39m\u001b[38;5;241m.\u001b[39m_stateful_fn \u001b[38;5;129;01mis\u001b[39;00m \u001b[38;5;129;01mnot\u001b[39;00m \u001b[38;5;28;01mNone\u001b[39;00m:\n\u001b[1;32m    949\u001b[0m   \u001b[38;5;66;03m# Release the lock early so that multiple threads can perform the call\u001b[39;00m\n\u001b[1;32m    950\u001b[0m   \u001b[38;5;66;03m# in parallel.\u001b[39;00m\n\u001b[1;32m    951\u001b[0m   \u001b[38;5;28mself\u001b[39m\u001b[38;5;241m.\u001b[39m_lock\u001b[38;5;241m.\u001b[39mrelease()\n",
      "File \u001b[0;32m~/anaconda3/envs/tf/lib/python3.9/site-packages/tensorflow/python/eager/function.py:2453\u001b[0m, in \u001b[0;36mFunction.__call__\u001b[0;34m(self, *args, **kwargs)\u001b[0m\n\u001b[1;32m   2450\u001b[0m \u001b[38;5;28;01mwith\u001b[39;00m \u001b[38;5;28mself\u001b[39m\u001b[38;5;241m.\u001b[39m_lock:\n\u001b[1;32m   2451\u001b[0m   (graph_function,\n\u001b[1;32m   2452\u001b[0m    filtered_flat_args) \u001b[38;5;241m=\u001b[39m \u001b[38;5;28mself\u001b[39m\u001b[38;5;241m.\u001b[39m_maybe_define_function(args, kwargs)\n\u001b[0;32m-> 2453\u001b[0m \u001b[38;5;28;01mreturn\u001b[39;00m \u001b[43mgraph_function\u001b[49m\u001b[38;5;241;43m.\u001b[39;49m\u001b[43m_call_flat\u001b[49m\u001b[43m(\u001b[49m\n\u001b[1;32m   2454\u001b[0m \u001b[43m    \u001b[49m\u001b[43mfiltered_flat_args\u001b[49m\u001b[43m,\u001b[49m\u001b[43m \u001b[49m\u001b[43mcaptured_inputs\u001b[49m\u001b[38;5;241;43m=\u001b[39;49m\u001b[43mgraph_function\u001b[49m\u001b[38;5;241;43m.\u001b[39;49m\u001b[43mcaptured_inputs\u001b[49m\u001b[43m)\u001b[49m\n",
      "File \u001b[0;32m~/anaconda3/envs/tf/lib/python3.9/site-packages/tensorflow/python/eager/function.py:1860\u001b[0m, in \u001b[0;36mConcreteFunction._call_flat\u001b[0;34m(self, args, captured_inputs, cancellation_manager)\u001b[0m\n\u001b[1;32m   1856\u001b[0m possible_gradient_type \u001b[38;5;241m=\u001b[39m gradients_util\u001b[38;5;241m.\u001b[39mPossibleTapeGradientTypes(args)\n\u001b[1;32m   1857\u001b[0m \u001b[38;5;28;01mif\u001b[39;00m (possible_gradient_type \u001b[38;5;241m==\u001b[39m gradients_util\u001b[38;5;241m.\u001b[39mPOSSIBLE_GRADIENT_TYPES_NONE\n\u001b[1;32m   1858\u001b[0m     \u001b[38;5;129;01mand\u001b[39;00m executing_eagerly):\n\u001b[1;32m   1859\u001b[0m   \u001b[38;5;66;03m# No tape is watching; skip to running the function.\u001b[39;00m\n\u001b[0;32m-> 1860\u001b[0m   \u001b[38;5;28;01mreturn\u001b[39;00m \u001b[38;5;28mself\u001b[39m\u001b[38;5;241m.\u001b[39m_build_call_outputs(\u001b[38;5;28;43mself\u001b[39;49m\u001b[38;5;241;43m.\u001b[39;49m\u001b[43m_inference_function\u001b[49m\u001b[38;5;241;43m.\u001b[39;49m\u001b[43mcall\u001b[49m\u001b[43m(\u001b[49m\n\u001b[1;32m   1861\u001b[0m \u001b[43m      \u001b[49m\u001b[43mctx\u001b[49m\u001b[43m,\u001b[49m\u001b[43m \u001b[49m\u001b[43margs\u001b[49m\u001b[43m,\u001b[49m\u001b[43m \u001b[49m\u001b[43mcancellation_manager\u001b[49m\u001b[38;5;241;43m=\u001b[39;49m\u001b[43mcancellation_manager\u001b[49m\u001b[43m)\u001b[49m)\n\u001b[1;32m   1862\u001b[0m forward_backward \u001b[38;5;241m=\u001b[39m \u001b[38;5;28mself\u001b[39m\u001b[38;5;241m.\u001b[39m_select_forward_and_backward_functions(\n\u001b[1;32m   1863\u001b[0m     args,\n\u001b[1;32m   1864\u001b[0m     possible_gradient_type,\n\u001b[1;32m   1865\u001b[0m     executing_eagerly)\n\u001b[1;32m   1866\u001b[0m forward_function, args_with_tangents \u001b[38;5;241m=\u001b[39m forward_backward\u001b[38;5;241m.\u001b[39mforward()\n",
      "File \u001b[0;32m~/anaconda3/envs/tf/lib/python3.9/site-packages/tensorflow/python/eager/function.py:497\u001b[0m, in \u001b[0;36m_EagerDefinedFunction.call\u001b[0;34m(self, ctx, args, cancellation_manager)\u001b[0m\n\u001b[1;32m    495\u001b[0m \u001b[38;5;28;01mwith\u001b[39;00m _InterpolateFunctionError(\u001b[38;5;28mself\u001b[39m):\n\u001b[1;32m    496\u001b[0m   \u001b[38;5;28;01mif\u001b[39;00m cancellation_manager \u001b[38;5;129;01mis\u001b[39;00m \u001b[38;5;28;01mNone\u001b[39;00m:\n\u001b[0;32m--> 497\u001b[0m     outputs \u001b[38;5;241m=\u001b[39m \u001b[43mexecute\u001b[49m\u001b[38;5;241;43m.\u001b[39;49m\u001b[43mexecute\u001b[49m\u001b[43m(\u001b[49m\n\u001b[1;32m    498\u001b[0m \u001b[43m        \u001b[49m\u001b[38;5;28;43mstr\u001b[39;49m\u001b[43m(\u001b[49m\u001b[38;5;28;43mself\u001b[39;49m\u001b[38;5;241;43m.\u001b[39;49m\u001b[43msignature\u001b[49m\u001b[38;5;241;43m.\u001b[39;49m\u001b[43mname\u001b[49m\u001b[43m)\u001b[49m\u001b[43m,\u001b[49m\n\u001b[1;32m    499\u001b[0m \u001b[43m        \u001b[49m\u001b[43mnum_outputs\u001b[49m\u001b[38;5;241;43m=\u001b[39;49m\u001b[38;5;28;43mself\u001b[39;49m\u001b[38;5;241;43m.\u001b[39;49m\u001b[43m_num_outputs\u001b[49m\u001b[43m,\u001b[49m\n\u001b[1;32m    500\u001b[0m \u001b[43m        \u001b[49m\u001b[43minputs\u001b[49m\u001b[38;5;241;43m=\u001b[39;49m\u001b[43margs\u001b[49m\u001b[43m,\u001b[49m\n\u001b[1;32m    501\u001b[0m \u001b[43m        \u001b[49m\u001b[43mattrs\u001b[49m\u001b[38;5;241;43m=\u001b[39;49m\u001b[43mattrs\u001b[49m\u001b[43m,\u001b[49m\n\u001b[1;32m    502\u001b[0m \u001b[43m        \u001b[49m\u001b[43mctx\u001b[49m\u001b[38;5;241;43m=\u001b[39;49m\u001b[43mctx\u001b[49m\u001b[43m)\u001b[49m\n\u001b[1;32m    503\u001b[0m   \u001b[38;5;28;01melse\u001b[39;00m:\n\u001b[1;32m    504\u001b[0m     outputs \u001b[38;5;241m=\u001b[39m execute\u001b[38;5;241m.\u001b[39mexecute_with_cancellation(\n\u001b[1;32m    505\u001b[0m         \u001b[38;5;28mstr\u001b[39m(\u001b[38;5;28mself\u001b[39m\u001b[38;5;241m.\u001b[39msignature\u001b[38;5;241m.\u001b[39mname),\n\u001b[1;32m    506\u001b[0m         num_outputs\u001b[38;5;241m=\u001b[39m\u001b[38;5;28mself\u001b[39m\u001b[38;5;241m.\u001b[39m_num_outputs,\n\u001b[0;32m   (...)\u001b[0m\n\u001b[1;32m    509\u001b[0m         ctx\u001b[38;5;241m=\u001b[39mctx,\n\u001b[1;32m    510\u001b[0m         cancellation_manager\u001b[38;5;241m=\u001b[39mcancellation_manager)\n",
      "File \u001b[0;32m~/anaconda3/envs/tf/lib/python3.9/site-packages/tensorflow/python/eager/execute.py:54\u001b[0m, in \u001b[0;36mquick_execute\u001b[0;34m(op_name, num_outputs, inputs, attrs, ctx, name)\u001b[0m\n\u001b[1;32m     52\u001b[0m \u001b[38;5;28;01mtry\u001b[39;00m:\n\u001b[1;32m     53\u001b[0m   ctx\u001b[38;5;241m.\u001b[39mensure_initialized()\n\u001b[0;32m---> 54\u001b[0m   tensors \u001b[38;5;241m=\u001b[39m \u001b[43mpywrap_tfe\u001b[49m\u001b[38;5;241;43m.\u001b[39;49m\u001b[43mTFE_Py_Execute\u001b[49m\u001b[43m(\u001b[49m\u001b[43mctx\u001b[49m\u001b[38;5;241;43m.\u001b[39;49m\u001b[43m_handle\u001b[49m\u001b[43m,\u001b[49m\u001b[43m \u001b[49m\u001b[43mdevice_name\u001b[49m\u001b[43m,\u001b[49m\u001b[43m \u001b[49m\u001b[43mop_name\u001b[49m\u001b[43m,\u001b[49m\n\u001b[1;32m     55\u001b[0m \u001b[43m                                      \u001b[49m\u001b[43minputs\u001b[49m\u001b[43m,\u001b[49m\u001b[43m \u001b[49m\u001b[43mattrs\u001b[49m\u001b[43m,\u001b[49m\u001b[43m \u001b[49m\u001b[43mnum_outputs\u001b[49m\u001b[43m)\u001b[49m\n\u001b[1;32m     56\u001b[0m \u001b[38;5;28;01mexcept\u001b[39;00m core\u001b[38;5;241m.\u001b[39m_NotOkStatusException \u001b[38;5;28;01mas\u001b[39;00m e:\n\u001b[1;32m     57\u001b[0m   \u001b[38;5;28;01mif\u001b[39;00m name \u001b[38;5;129;01mis\u001b[39;00m \u001b[38;5;129;01mnot\u001b[39;00m \u001b[38;5;28;01mNone\u001b[39;00m:\n",
      "\u001b[0;31mKeyboardInterrupt\u001b[0m: "
     ]
    }
   ],
   "source": [
    "history = classifier_model.fit(x=train_ds,\n",
    "                               validation_data=val_ds,\n",
    "                               epochs=epochs)"
   ]
  },
  {
   "cell_type": "code",
   "execution_count": null,
   "id": "92fc32f4",
   "metadata": {},
   "outputs": [],
   "source": []
  }
 ],
 "metadata": {
  "kernelspec": {
   "display_name": "Python 3 (ipykernel)",
   "language": "python",
   "name": "python3"
  },
  "language_info": {
   "codemirror_mode": {
    "name": "ipython",
    "version": 3
   },
   "file_extension": ".py",
   "mimetype": "text/x-python",
   "name": "python",
   "nbconvert_exporter": "python",
   "pygments_lexer": "ipython3",
   "version": "3.9.12"
  }
 },
 "nbformat": 4,
 "nbformat_minor": 5
}
