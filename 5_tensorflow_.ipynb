{
 "cells": [
  {
   "cell_type": "markdown",
   "id": "bff69d14",
   "metadata": {},
   "source": []
  },
  {
   "cell_type": "code",
   "execution_count": 1,
   "id": "b6558b2f",
   "metadata": {},
   "outputs": [],
   "source": [
    "import pandas as pd\n",
    "import numpy as np\n",
    "import seaborn as sns\n",
    "\n",
    "import tensorflow as tf\n",
    "import tensorflow_text as text"
   ]
  },
  {
   "cell_type": "code",
   "execution_count": 2,
   "id": "855d3a75",
   "metadata": {},
   "outputs": [],
   "source": [
    "import tensorflow_hub as hub"
   ]
  },
  {
   "cell_type": "code",
   "execution_count": 3,
   "id": "122f9688",
   "metadata": {},
   "outputs": [],
   "source": [
    "import sklearn\n",
    "from official.nlp import optimization  # to create AdamW optimizer"
   ]
  },
  {
   "cell_type": "code",
   "execution_count": 4,
   "id": "36661096",
   "metadata": {},
   "outputs": [],
   "source": [
    "factoid = pd.read_pickle(\"/app/home/heindlc/reddit_corpus_balanced_filtered.gzip\", compression = \"gzip\")"
   ]
  },
  {
   "cell_type": "code",
   "execution_count": 5,
   "id": "59169cbd",
   "metadata": {},
   "outputs": [
    {
     "data": {
      "text/plain": [
       "74"
      ]
     },
     "execution_count": 5,
     "metadata": {},
     "output_type": "execute_result"
    }
   ],
   "source": [
    "factoid[\"pb_factor\"].isnull().sum()"
   ]
  },
  {
   "cell_type": "code",
   "execution_count": 6,
   "id": "41e8cafe",
   "metadata": {},
   "outputs": [],
   "source": [
    "factoid = factoid[~ factoid[\"pb_factor\"].isnull()]"
   ]
  },
  {
   "cell_type": "code",
   "execution_count": 7,
   "id": "316c1d37",
   "metadata": {},
   "outputs": [
    {
     "data": {
      "text/plain": [
       "0"
      ]
     },
     "execution_count": 7,
     "metadata": {},
     "output_type": "execute_result"
    }
   ],
   "source": [
    "factoid[\"pb_factor\"].isnull().sum()"
   ]
  },
  {
   "cell_type": "code",
   "execution_count": 8,
   "id": "2bc11274",
   "metadata": {},
   "outputs": [],
   "source": [
    "data = pd.concat([pd.DataFrame([[row[1], post[1],post[3], row[-4]] for post in row[3]], columns=[\"user_id\", \"post\",\"topic\",\"user_pb\"])\n",
    "                  for row in factoid.itertuples()], ignore_index=True)\n"
   ]
  },
  {
   "cell_type": "code",
   "execution_count": 9,
   "id": "13749bec",
   "metadata": {},
   "outputs": [
    {
     "data": {
      "text/plain": [
       "(3342802, 4)"
      ]
     },
     "execution_count": 9,
     "metadata": {},
     "output_type": "execute_result"
    }
   ],
   "source": [
    "data.shape\n"
   ]
  },
  {
   "cell_type": "code",
   "execution_count": 10,
   "id": "9838ada5",
   "metadata": {
    "scrolled": true
   },
   "outputs": [
    {
     "data": {
      "text/html": [
       "<div>\n",
       "<style scoped>\n",
       "    .dataframe tbody tr th:only-of-type {\n",
       "        vertical-align: middle;\n",
       "    }\n",
       "\n",
       "    .dataframe tbody tr th {\n",
       "        vertical-align: top;\n",
       "    }\n",
       "\n",
       "    .dataframe thead th {\n",
       "        text-align: right;\n",
       "    }\n",
       "</style>\n",
       "<table border=\"1\" class=\"dataframe\">\n",
       "  <thead>\n",
       "    <tr style=\"text-align: right;\">\n",
       "      <th></th>\n",
       "      <th>user_id</th>\n",
       "      <th>post</th>\n",
       "      <th>topic</th>\n",
       "      <th>user_pb</th>\n",
       "    </tr>\n",
       "  </thead>\n",
       "  <tbody>\n",
       "    <tr>\n",
       "      <th>0</th>\n",
       "      <td>ddf62a134f09db7a6056190d594bd41ff2f4cf04faf5db...</td>\n",
       "      <td>The fact that this has to be explained is what...</td>\n",
       "      <td>r/politics</td>\n",
       "      <td>-0.826087</td>\n",
       "    </tr>\n",
       "    <tr>\n",
       "      <th>1</th>\n",
       "      <td>ddf62a134f09db7a6056190d594bd41ff2f4cf04faf5db...</td>\n",
       "      <td>he's not deteriorating, he just does not care ...</td>\n",
       "      <td>r/politics</td>\n",
       "      <td>-0.826087</td>\n",
       "    </tr>\n",
       "    <tr>\n",
       "      <th>2</th>\n",
       "      <td>ddf62a134f09db7a6056190d594bd41ff2f4cf04faf5db...</td>\n",
       "      <td>Look, it's now perfectly clear that if he coul...</td>\n",
       "      <td>r/politics</td>\n",
       "      <td>-0.826087</td>\n",
       "    </tr>\n",
       "    <tr>\n",
       "      <th>3</th>\n",
       "      <td>ddf62a134f09db7a6056190d594bd41ff2f4cf04faf5db...</td>\n",
       "      <td>That's the whole point of this statement. Ther...</td>\n",
       "      <td>r/politics</td>\n",
       "      <td>-0.826087</td>\n",
       "    </tr>\n",
       "    <tr>\n",
       "      <th>4</th>\n",
       "      <td>ddf62a134f09db7a6056190d594bd41ff2f4cf04faf5db...</td>\n",
       "      <td>I keep seeing that M4A is now just a \"bargaini...</td>\n",
       "      <td>r/politics</td>\n",
       "      <td>-0.826087</td>\n",
       "    </tr>\n",
       "    <tr>\n",
       "      <th>5</th>\n",
       "      <td>ddf62a134f09db7a6056190d594bd41ff2f4cf04faf5db...</td>\n",
       "      <td>Look, this lawsuit had to come together in a h...</td>\n",
       "      <td>r/politics</td>\n",
       "      <td>-0.826087</td>\n",
       "    </tr>\n",
       "    <tr>\n",
       "      <th>6</th>\n",
       "      <td>ddf62a134f09db7a6056190d594bd41ff2f4cf04faf5db...</td>\n",
       "      <td>and yet, the top comment in a conservative sub...</td>\n",
       "      <td>r/politics</td>\n",
       "      <td>-0.826087</td>\n",
       "    </tr>\n",
       "    <tr>\n",
       "      <th>7</th>\n",
       "      <td>ddf62a134f09db7a6056190d594bd41ff2f4cf04faf5db...</td>\n",
       "      <td>he definitely believes it. I don't know why pe...</td>\n",
       "      <td>r/politics</td>\n",
       "      <td>-0.826087</td>\n",
       "    </tr>\n",
       "    <tr>\n",
       "      <th>8</th>\n",
       "      <td>ddf62a134f09db7a6056190d594bd41ff2f4cf04faf5db...</td>\n",
       "      <td>even in a world where Mueller comes out and sa...</td>\n",
       "      <td>r/politics</td>\n",
       "      <td>-0.826087</td>\n",
       "    </tr>\n",
       "    <tr>\n",
       "      <th>9</th>\n",
       "      <td>ddf62a134f09db7a6056190d594bd41ff2f4cf04faf5db...</td>\n",
       "      <td>notice there's not one word there about any th...</td>\n",
       "      <td>r/politics</td>\n",
       "      <td>-0.826087</td>\n",
       "    </tr>\n",
       "  </tbody>\n",
       "</table>\n",
       "</div>"
      ],
      "text/plain": [
       "                                             user_id  \\\n",
       "0  ddf62a134f09db7a6056190d594bd41ff2f4cf04faf5db...   \n",
       "1  ddf62a134f09db7a6056190d594bd41ff2f4cf04faf5db...   \n",
       "2  ddf62a134f09db7a6056190d594bd41ff2f4cf04faf5db...   \n",
       "3  ddf62a134f09db7a6056190d594bd41ff2f4cf04faf5db...   \n",
       "4  ddf62a134f09db7a6056190d594bd41ff2f4cf04faf5db...   \n",
       "5  ddf62a134f09db7a6056190d594bd41ff2f4cf04faf5db...   \n",
       "6  ddf62a134f09db7a6056190d594bd41ff2f4cf04faf5db...   \n",
       "7  ddf62a134f09db7a6056190d594bd41ff2f4cf04faf5db...   \n",
       "8  ddf62a134f09db7a6056190d594bd41ff2f4cf04faf5db...   \n",
       "9  ddf62a134f09db7a6056190d594bd41ff2f4cf04faf5db...   \n",
       "\n",
       "                                                post       topic   user_pb  \n",
       "0  The fact that this has to be explained is what...  r/politics -0.826087  \n",
       "1  he's not deteriorating, he just does not care ...  r/politics -0.826087  \n",
       "2  Look, it's now perfectly clear that if he coul...  r/politics -0.826087  \n",
       "3  That's the whole point of this statement. Ther...  r/politics -0.826087  \n",
       "4  I keep seeing that M4A is now just a \"bargaini...  r/politics -0.826087  \n",
       "5  Look, this lawsuit had to come together in a h...  r/politics -0.826087  \n",
       "6  and yet, the top comment in a conservative sub...  r/politics -0.826087  \n",
       "7  he definitely believes it. I don't know why pe...  r/politics -0.826087  \n",
       "8  even in a world where Mueller comes out and sa...  r/politics -0.826087  \n",
       "9  notice there's not one word there about any th...  r/politics -0.826087  "
      ]
     },
     "execution_count": 10,
     "metadata": {},
     "output_type": "execute_result"
    }
   ],
   "source": [
    "data.head(10)"
   ]
  },
  {
   "cell_type": "code",
   "execution_count": 11,
   "id": "6151e2cf",
   "metadata": {},
   "outputs": [],
   "source": [
    "import re \n",
    "import string \n",
    "\n",
    "def clean_text(text):\n",
    "    \"\"\"Pre-process text and generate tokens\n",
    "\n",
    "    Args:\n",
    "        text: Text to tokenize.\n",
    "\n",
    "    Returns:\n",
    "        Tokenized text.\n",
    "    \"\"\"\n",
    "    text = re.sub(\"#[A-Za-z0-9_]+\",\"\", text)\n",
    "    text = re.sub(r'http\\S+', '', text)\n",
    "    text = re.sub(r'&gt\\S+', '', text)\n",
    "    text = re.sub(\" \\d+\", \" \", text) # remove numbers \n",
    "    text = re.sub(r\"\\[(.*?)\\]\", \"\", text)  # Remove [+XYZ chars] in content\n",
    "    text = re.sub(r\"\\s+\", \" \", text)  # Remove multiple spaces in content\n",
    "    text = re.sub(r\"\\w+…|…\", \"\", text)  # Remove ellipsis (and last word)\n",
    "    text = re.sub(r\"(?<=\\w)-(?=\\w)\", \" \", text)  # Replace dash between words\n",
    "    \n",
    "    return text\n",
    "\n"
   ]
  },
  {
   "cell_type": "code",
   "execution_count": null,
   "id": "fa8821ce",
   "metadata": {},
   "outputs": [],
   "source": []
  },
  {
   "cell_type": "code",
   "execution_count": 12,
   "id": "4f1c6a1f",
   "metadata": {},
   "outputs": [],
   "source": [
    "data[\"post\"] = data[\"post\"].apply(clean_text)"
   ]
  },
  {
   "cell_type": "code",
   "execution_count": 13,
   "id": "7917b5cb",
   "metadata": {},
   "outputs": [],
   "source": [
    "#atas = df.drop(df[df.score < 400].index)\n",
    "#data[\"post_len\"] = data[len(data[\"post\"]) > 400]\n",
    "\n",
    "data = data[data['post'].map(len) > 300]"
   ]
  },
  {
   "cell_type": "code",
   "execution_count": 14,
   "id": "cea7488f",
   "metadata": {},
   "outputs": [
    {
     "data": {
      "text/html": [
       "<div>\n",
       "<style scoped>\n",
       "    .dataframe tbody tr th:only-of-type {\n",
       "        vertical-align: middle;\n",
       "    }\n",
       "\n",
       "    .dataframe tbody tr th {\n",
       "        vertical-align: top;\n",
       "    }\n",
       "\n",
       "    .dataframe thead th {\n",
       "        text-align: right;\n",
       "    }\n",
       "</style>\n",
       "<table border=\"1\" class=\"dataframe\">\n",
       "  <thead>\n",
       "    <tr style=\"text-align: right;\">\n",
       "      <th></th>\n",
       "      <th>user_id</th>\n",
       "      <th>post</th>\n",
       "      <th>topic</th>\n",
       "      <th>user_pb</th>\n",
       "    </tr>\n",
       "  </thead>\n",
       "  <tbody>\n",
       "    <tr>\n",
       "      <th>0</th>\n",
       "      <td>ddf62a134f09db7a6056190d594bd41ff2f4cf04faf5db...</td>\n",
       "      <td>The fact that this has to be explained is what...</td>\n",
       "      <td>r/politics</td>\n",
       "      <td>-0.826087</td>\n",
       "    </tr>\n",
       "    <tr>\n",
       "      <th>1</th>\n",
       "      <td>ddf62a134f09db7a6056190d594bd41ff2f4cf04faf5db...</td>\n",
       "      <td>he's not deteriorating, he just does not care ...</td>\n",
       "      <td>r/politics</td>\n",
       "      <td>-0.826087</td>\n",
       "    </tr>\n",
       "    <tr>\n",
       "      <th>3</th>\n",
       "      <td>ddf62a134f09db7a6056190d594bd41ff2f4cf04faf5db...</td>\n",
       "      <td>That's the whole point of this statement. Ther...</td>\n",
       "      <td>r/politics</td>\n",
       "      <td>-0.826087</td>\n",
       "    </tr>\n",
       "    <tr>\n",
       "      <th>4</th>\n",
       "      <td>ddf62a134f09db7a6056190d594bd41ff2f4cf04faf5db...</td>\n",
       "      <td>I keep seeing that M4A is now just a \"bargaini...</td>\n",
       "      <td>r/politics</td>\n",
       "      <td>-0.826087</td>\n",
       "    </tr>\n",
       "    <tr>\n",
       "      <th>6</th>\n",
       "      <td>ddf62a134f09db7a6056190d594bd41ff2f4cf04faf5db...</td>\n",
       "      <td>and yet, the top comment in a conservative sub...</td>\n",
       "      <td>r/politics</td>\n",
       "      <td>-0.826087</td>\n",
       "    </tr>\n",
       "    <tr>\n",
       "      <th>7</th>\n",
       "      <td>ddf62a134f09db7a6056190d594bd41ff2f4cf04faf5db...</td>\n",
       "      <td>he definitely believes it. I don't know why pe...</td>\n",
       "      <td>r/politics</td>\n",
       "      <td>-0.826087</td>\n",
       "    </tr>\n",
       "    <tr>\n",
       "      <th>12</th>\n",
       "      <td>ddf62a134f09db7a6056190d594bd41ff2f4cf04faf5db...</td>\n",
       "      <td>might actually be Christ coming back for a se...</td>\n",
       "      <td>r/politics</td>\n",
       "      <td>-0.826087</td>\n",
       "    </tr>\n",
       "    <tr>\n",
       "      <th>14</th>\n",
       "      <td>ddf62a134f09db7a6056190d594bd41ff2f4cf04faf5db...</td>\n",
       "      <td>throughout the entire past years there really ...</td>\n",
       "      <td>r/politics</td>\n",
       "      <td>-0.826087</td>\n",
       "    </tr>\n",
       "    <tr>\n",
       "      <th>15</th>\n",
       "      <td>ddf62a134f09db7a6056190d594bd41ff2f4cf04faf5db...</td>\n",
       "      <td>**my highest ever upvoted reddit comment years...</td>\n",
       "      <td>r/politics</td>\n",
       "      <td>-0.826087</td>\n",
       "    </tr>\n",
       "    <tr>\n",
       "      <th>16</th>\n",
       "      <td>ddf62a134f09db7a6056190d594bd41ff2f4cf04faf5db...</td>\n",
       "      <td>it's crazy how decentralized this country is. ...</td>\n",
       "      <td>r/politics</td>\n",
       "      <td>-0.826087</td>\n",
       "    </tr>\n",
       "  </tbody>\n",
       "</table>\n",
       "</div>"
      ],
      "text/plain": [
       "                                              user_id  \\\n",
       "0   ddf62a134f09db7a6056190d594bd41ff2f4cf04faf5db...   \n",
       "1   ddf62a134f09db7a6056190d594bd41ff2f4cf04faf5db...   \n",
       "3   ddf62a134f09db7a6056190d594bd41ff2f4cf04faf5db...   \n",
       "4   ddf62a134f09db7a6056190d594bd41ff2f4cf04faf5db...   \n",
       "6   ddf62a134f09db7a6056190d594bd41ff2f4cf04faf5db...   \n",
       "7   ddf62a134f09db7a6056190d594bd41ff2f4cf04faf5db...   \n",
       "12  ddf62a134f09db7a6056190d594bd41ff2f4cf04faf5db...   \n",
       "14  ddf62a134f09db7a6056190d594bd41ff2f4cf04faf5db...   \n",
       "15  ddf62a134f09db7a6056190d594bd41ff2f4cf04faf5db...   \n",
       "16  ddf62a134f09db7a6056190d594bd41ff2f4cf04faf5db...   \n",
       "\n",
       "                                                 post       topic   user_pb  \n",
       "0   The fact that this has to be explained is what...  r/politics -0.826087  \n",
       "1   he's not deteriorating, he just does not care ...  r/politics -0.826087  \n",
       "3   That's the whole point of this statement. Ther...  r/politics -0.826087  \n",
       "4   I keep seeing that M4A is now just a \"bargaini...  r/politics -0.826087  \n",
       "6   and yet, the top comment in a conservative sub...  r/politics -0.826087  \n",
       "7   he definitely believes it. I don't know why pe...  r/politics -0.826087  \n",
       "12   might actually be Christ coming back for a se...  r/politics -0.826087  \n",
       "14  throughout the entire past years there really ...  r/politics -0.826087  \n",
       "15  **my highest ever upvoted reddit comment years...  r/politics -0.826087  \n",
       "16  it's crazy how decentralized this country is. ...  r/politics -0.826087  "
      ]
     },
     "execution_count": 14,
     "metadata": {},
     "output_type": "execute_result"
    }
   ],
   "source": [
    "data.head(10)"
   ]
  },
  {
   "cell_type": "code",
   "execution_count": 15,
   "id": "fd296d61",
   "metadata": {
    "scrolled": true
   },
   "outputs": [
    {
     "name": "stdout",
     "output_type": "stream",
     "text": [
      "364\n",
      "2023\n",
      "955\n",
      "1597\n",
      "527\n",
      "1083\n",
      "395\n",
      "322\n",
      "1889\n",
      "1521\n"
     ]
    }
   ],
   "source": [
    "for index, row in data.head(10).iterrows():\n",
    "    print(len(row[\"post\"]))"
   ]
  },
  {
   "cell_type": "code",
   "execution_count": 16,
   "id": "69ba7f5f",
   "metadata": {},
   "outputs": [
    {
     "data": {
      "text/html": [
       "<div>\n",
       "<style scoped>\n",
       "    .dataframe tbody tr th:only-of-type {\n",
       "        vertical-align: middle;\n",
       "    }\n",
       "\n",
       "    .dataframe tbody tr th {\n",
       "        vertical-align: top;\n",
       "    }\n",
       "\n",
       "    .dataframe thead th {\n",
       "        text-align: right;\n",
       "    }\n",
       "</style>\n",
       "<table border=\"1\" class=\"dataframe\">\n",
       "  <thead>\n",
       "    <tr style=\"text-align: right;\">\n",
       "      <th></th>\n",
       "      <th>user_id</th>\n",
       "      <th>post</th>\n",
       "      <th>topic</th>\n",
       "      <th>user_pb</th>\n",
       "      <th>pb_categories</th>\n",
       "    </tr>\n",
       "  </thead>\n",
       "  <tbody>\n",
       "    <tr>\n",
       "      <th>0</th>\n",
       "      <td>ddf62a134f09db7a6056190d594bd41ff2f4cf04faf5db...</td>\n",
       "      <td>The fact that this has to be explained is what...</td>\n",
       "      <td>r/politics</td>\n",
       "      <td>-0.826087</td>\n",
       "      <td>LEFT_CENTER</td>\n",
       "    </tr>\n",
       "    <tr>\n",
       "      <th>1</th>\n",
       "      <td>ddf62a134f09db7a6056190d594bd41ff2f4cf04faf5db...</td>\n",
       "      <td>he's not deteriorating, he just does not care ...</td>\n",
       "      <td>r/politics</td>\n",
       "      <td>-0.826087</td>\n",
       "      <td>LEFT_CENTER</td>\n",
       "    </tr>\n",
       "    <tr>\n",
       "      <th>3</th>\n",
       "      <td>ddf62a134f09db7a6056190d594bd41ff2f4cf04faf5db...</td>\n",
       "      <td>That's the whole point of this statement. Ther...</td>\n",
       "      <td>r/politics</td>\n",
       "      <td>-0.826087</td>\n",
       "      <td>LEFT_CENTER</td>\n",
       "    </tr>\n",
       "    <tr>\n",
       "      <th>4</th>\n",
       "      <td>ddf62a134f09db7a6056190d594bd41ff2f4cf04faf5db...</td>\n",
       "      <td>I keep seeing that M4A is now just a \"bargaini...</td>\n",
       "      <td>r/politics</td>\n",
       "      <td>-0.826087</td>\n",
       "      <td>LEFT_CENTER</td>\n",
       "    </tr>\n",
       "    <tr>\n",
       "      <th>6</th>\n",
       "      <td>ddf62a134f09db7a6056190d594bd41ff2f4cf04faf5db...</td>\n",
       "      <td>and yet, the top comment in a conservative sub...</td>\n",
       "      <td>r/politics</td>\n",
       "      <td>-0.826087</td>\n",
       "      <td>LEFT_CENTER</td>\n",
       "    </tr>\n",
       "    <tr>\n",
       "      <th>...</th>\n",
       "      <td>...</td>\n",
       "      <td>...</td>\n",
       "      <td>...</td>\n",
       "      <td>...</td>\n",
       "      <td>...</td>\n",
       "    </tr>\n",
       "    <tr>\n",
       "      <th>3342776</th>\n",
       "      <td>265bde26afcab547a099f352a67bc462851b3d8b1b588c...</td>\n",
       "      <td>You don't elect a wannabe dictator to the whit...</td>\n",
       "      <td>r/politics</td>\n",
       "      <td>-0.777778</td>\n",
       "      <td>LEFT_CENTER</td>\n",
       "    </tr>\n",
       "    <tr>\n",
       "      <th>3342780</th>\n",
       "      <td>265bde26afcab547a099f352a67bc462851b3d8b1b588c...</td>\n",
       "      <td>I am worried about that image being turned aro...</td>\n",
       "      <td>r/politics</td>\n",
       "      <td>-0.777778</td>\n",
       "      <td>LEFT_CENTER</td>\n",
       "    </tr>\n",
       "    <tr>\n",
       "      <th>3342783</th>\n",
       "      <td>265bde26afcab547a099f352a67bc462851b3d8b1b588c...</td>\n",
       "      <td>They don't know how to win elections (and ther...</td>\n",
       "      <td>r/politics</td>\n",
       "      <td>-0.777778</td>\n",
       "      <td>LEFT_CENTER</td>\n",
       "    </tr>\n",
       "    <tr>\n",
       "      <th>3342800</th>\n",
       "      <td>265bde26afcab547a099f352a67bc462851b3d8b1b588c...</td>\n",
       "      <td>Obviously this is why we need a federal level ...</td>\n",
       "      <td>r/Coronavirus</td>\n",
       "      <td>-0.777778</td>\n",
       "      <td>LEFT_CENTER</td>\n",
       "    </tr>\n",
       "    <tr>\n",
       "      <th>3342801</th>\n",
       "      <td>265bde26afcab547a099f352a67bc462851b3d8b1b588c...</td>\n",
       "      <td>Me too. I do wonder at what point people are g...</td>\n",
       "      <td>r/CoronavirusRecession</td>\n",
       "      <td>-0.777778</td>\n",
       "      <td>LEFT_CENTER</td>\n",
       "    </tr>\n",
       "  </tbody>\n",
       "</table>\n",
       "<p>607288 rows × 5 columns</p>\n",
       "</div>"
      ],
      "text/plain": [
       "                                                   user_id  \\\n",
       "0        ddf62a134f09db7a6056190d594bd41ff2f4cf04faf5db...   \n",
       "1        ddf62a134f09db7a6056190d594bd41ff2f4cf04faf5db...   \n",
       "3        ddf62a134f09db7a6056190d594bd41ff2f4cf04faf5db...   \n",
       "4        ddf62a134f09db7a6056190d594bd41ff2f4cf04faf5db...   \n",
       "6        ddf62a134f09db7a6056190d594bd41ff2f4cf04faf5db...   \n",
       "...                                                    ...   \n",
       "3342776  265bde26afcab547a099f352a67bc462851b3d8b1b588c...   \n",
       "3342780  265bde26afcab547a099f352a67bc462851b3d8b1b588c...   \n",
       "3342783  265bde26afcab547a099f352a67bc462851b3d8b1b588c...   \n",
       "3342800  265bde26afcab547a099f352a67bc462851b3d8b1b588c...   \n",
       "3342801  265bde26afcab547a099f352a67bc462851b3d8b1b588c...   \n",
       "\n",
       "                                                      post  \\\n",
       "0        The fact that this has to be explained is what...   \n",
       "1        he's not deteriorating, he just does not care ...   \n",
       "3        That's the whole point of this statement. Ther...   \n",
       "4        I keep seeing that M4A is now just a \"bargaini...   \n",
       "6        and yet, the top comment in a conservative sub...   \n",
       "...                                                    ...   \n",
       "3342776  You don't elect a wannabe dictator to the whit...   \n",
       "3342780  I am worried about that image being turned aro...   \n",
       "3342783  They don't know how to win elections (and ther...   \n",
       "3342800  Obviously this is why we need a federal level ...   \n",
       "3342801  Me too. I do wonder at what point people are g...   \n",
       "\n",
       "                          topic   user_pb pb_categories  \n",
       "0                    r/politics -0.826087   LEFT_CENTER  \n",
       "1                    r/politics -0.826087   LEFT_CENTER  \n",
       "3                    r/politics -0.826087   LEFT_CENTER  \n",
       "4                    r/politics -0.826087   LEFT_CENTER  \n",
       "6                    r/politics -0.826087   LEFT_CENTER  \n",
       "...                         ...       ...           ...  \n",
       "3342776              r/politics -0.777778   LEFT_CENTER  \n",
       "3342780              r/politics -0.777778   LEFT_CENTER  \n",
       "3342783              r/politics -0.777778   LEFT_CENTER  \n",
       "3342800           r/Coronavirus -0.777778   LEFT_CENTER  \n",
       "3342801  r/CoronavirusRecession -0.777778   LEFT_CENTER  \n",
       "\n",
       "[607288 rows x 5 columns]"
      ]
     },
     "execution_count": 16,
     "metadata": {},
     "output_type": "execute_result"
    }
   ],
   "source": [
    "data_cats = data.copy()\n",
    "data_cats[\"pb_categories\"] = pd.cut(data_cats[\"user_pb\"],\n",
    "       [-3,-1.5,0,1.5,3], include_lowest=True,labels=[\"EXTREME_LEFT\", \"LEFT_CENTER\",\"RIGHT_CENTER\",\"EXTREME_RIGHT\"])\n",
    "data_cats"
   ]
  },
  {
   "cell_type": "code",
   "execution_count": null,
   "id": "b2b089bb",
   "metadata": {},
   "outputs": [],
   "source": []
  },
  {
   "cell_type": "code",
   "execution_count": 17,
   "id": "2f8e1345",
   "metadata": {},
   "outputs": [
    {
     "name": "stderr",
     "output_type": "stream",
     "text": [
      "/app/home/heindlc/anaconda3/envs/tf/lib/python3.9/site-packages/seaborn/_decorators.py:36: FutureWarning: Pass the following variable as a keyword arg: x. From version 0.12, the only valid positional argument will be `data`, and passing other arguments without an explicit keyword will result in an error or misinterpretation.\n",
      "  warnings.warn(\n"
     ]
    },
    {
     "data": {
      "text/plain": [
       "<AxesSubplot:xlabel='pb_categories', ylabel='count'>"
      ]
     },
     "execution_count": 17,
     "metadata": {},
     "output_type": "execute_result"
    },
    {
     "data": {
      "image/png": "[encoded data removed]",
      "text/plain": [
       "<Figure size 432x288 with 1 Axes>"
      ]
     },
     "metadata": {
      "needs_background": "light"
     },
     "output_type": "display_data"
    }
   ],
   "source": [
    "sns.countplot('pb_categories', data=data_cats)"
   ]
  },
  {
   "cell_type": "code",
   "execution_count": 18,
   "id": "23ffb5ad",
   "metadata": {},
   "outputs": [],
   "source": [
    "class_counts = data_cats.pb_categories.value_counts()\n",
    "\n",
    "c4 = data_cats[data_cats['pb_categories'] == \"LEFT_CENTER\"]\n",
    "c3 = data_cats[data_cats['pb_categories'] == \"RIGHT_CENTER\"]\n",
    "c2 = data_cats[data_cats['pb_categories'] == \"EXTREME_LEFT\"]\n",
    "c1 = data_cats[data_cats['pb_categories'] == \"EXTREME_RIGHT\"]"
   ]
  },
  {
   "cell_type": "code",
   "execution_count": 19,
   "id": "cb30cc0c",
   "metadata": {},
   "outputs": [
    {
     "data": {
      "text/plain": [
       "LEFT_CENTER      513040\n",
       "RIGHT_CENTER      83984\n",
       "EXTREME_RIGHT      8254\n",
       "EXTREME_LEFT       2010\n",
       "Name: pb_categories, dtype: int64"
      ]
     },
     "execution_count": 19,
     "metadata": {},
     "output_type": "execute_result"
    }
   ],
   "source": [
    "class_counts"
   ]
  },
  {
   "cell_type": "code",
   "execution_count": 20,
   "id": "08af5685",
   "metadata": {},
   "outputs": [],
   "source": [
    "c3 = c3.sample(class_counts[\"EXTREME_RIGHT\"])   \n",
    "c4 = c4.sample(class_counts[\"EXTREME_LEFT\"])\n",
    "data_balanced = pd.concat([c1,c2,c3,c4],axis=0 )"
   ]
  },
  {
   "cell_type": "code",
   "execution_count": 21,
   "id": "bf197e7b",
   "metadata": {},
   "outputs": [
    {
     "name": "stderr",
     "output_type": "stream",
     "text": [
      "/app/home/heindlc/anaconda3/envs/tf/lib/python3.9/site-packages/seaborn/_decorators.py:36: FutureWarning: Pass the following variable as a keyword arg: x. From version 0.12, the only valid positional argument will be `data`, and passing other arguments without an explicit keyword will result in an error or misinterpretation.\n",
      "  warnings.warn(\n"
     ]
    },
    {
     "data": {
      "text/plain": [
       "<AxesSubplot:xlabel='pb_categories', ylabel='count'>"
      ]
     },
     "execution_count": 21,
     "metadata": {},
     "output_type": "execute_result"
    },
    {
     "data": {
      "image/png": "[encoded data removed]",
      "text/plain": [
       "<Figure size 432x288 with 1 Axes>"
      ]
     },
     "metadata": {
      "needs_background": "light"
     },
     "output_type": "display_data"
    }
   ],
   "source": [
    "sns.countplot('pb_categories', data=data_balanced)"
   ]
  },
  {
   "cell_type": "code",
   "execution_count": 22,
   "id": "690872fe",
   "metadata": {},
   "outputs": [],
   "source": [
    "def binaryfy(label):\n",
    "    if label in [\"EXTREME_LEFT\",\"EXTREME_RIGHT\"]:\n",
    "        return 1\n",
    "    else: \n",
    "        return 0"
   ]
  },
  {
   "cell_type": "code",
   "execution_count": 23,
   "id": "3757c8fb",
   "metadata": {},
   "outputs": [],
   "source": [
    "data_binary = data_balanced.copy()\n",
    "#df[\"Labels\"] = df[\"Score\"].apply(lambda score: map_score(score))\n",
    "data_binary[\"pb_binary\"] = data_binary[\"pb_categories\"].apply(lambda label: binaryfy(label))"
   ]
  },
  {
   "cell_type": "code",
   "execution_count": 24,
   "id": "898927b2",
   "metadata": {
    "scrolled": true
   },
   "outputs": [
    {
     "name": "stderr",
     "output_type": "stream",
     "text": [
      "/app/home/heindlc/anaconda3/envs/tf/lib/python3.9/site-packages/seaborn/_decorators.py:36: FutureWarning: Pass the following variable as a keyword arg: x. From version 0.12, the only valid positional argument will be `data`, and passing other arguments without an explicit keyword will result in an error or misinterpretation.\n",
      "  warnings.warn(\n"
     ]
    },
    {
     "data": {
      "text/plain": [
       "<AxesSubplot:xlabel='pb_binary', ylabel='count'>"
      ]
     },
     "execution_count": 24,
     "metadata": {},
     "output_type": "execute_result"
    },
    {
     "data": {
      "image/png": "[encoded data removed]",
      "text/plain": [
       "<Figure size 432x288 with 1 Axes>"
      ]
     },
     "metadata": {
      "needs_background": "light"
     },
     "output_type": "display_data"
    }
   ],
   "source": [
    "sns.countplot('pb_binary', data=data_binary)"
   ]
  },
  {
   "cell_type": "code",
   "execution_count": 25,
   "id": "5d3cc312",
   "metadata": {},
   "outputs": [
    {
     "name": "stdout",
     "output_type": "stream",
     "text": [
      "1    10264\n",
      "0    10264\n",
      "Name: pb_binary, dtype: int64\n"
     ]
    }
   ],
   "source": [
    "class_counts = data_binary.pb_binary.value_counts()\n",
    "print(class_counts)"
   ]
  },
  {
   "cell_type": "code",
   "execution_count": 26,
   "id": "cd475d95",
   "metadata": {},
   "outputs": [],
   "source": [
    "# export LD_LIBRARY_PATH=$LD_LIBRARY_PATH:$CONDA_PREFIX/lib/"
   ]
  },
  {
   "cell_type": "code",
   "execution_count": 27,
   "id": "e277cc70",
   "metadata": {},
   "outputs": [
    {
     "name": "stdout",
     "output_type": "stream",
     "text": [
      "/bin/bash: /app/home/heindlc/anaconda3/lib/libtinfo.so.6: no version information available (required by /bin/bash)\n",
      "[PhysicalDevice(name='/physical_device:GPU:0', device_type='GPU'), PhysicalDevice(name='/physical_device:GPU:1', device_type='GPU'), PhysicalDevice(name='/physical_device:GPU:2', device_type='GPU'), PhysicalDevice(name='/physical_device:GPU:3', device_type='GPU')]\n"
     ]
    }
   ],
   "source": [
    "! python3 -c \"import tensorflow as tf; print(tf.config.list_physical_devices('GPU'))\""
   ]
  },
  {
   "cell_type": "code",
   "execution_count": 28,
   "id": "43766845",
   "metadata": {},
   "outputs": [
    {
     "data": {
      "text/html": [
       "<div>\n",
       "<style scoped>\n",
       "    .dataframe tbody tr th:only-of-type {\n",
       "        vertical-align: middle;\n",
       "    }\n",
       "\n",
       "    .dataframe tbody tr th {\n",
       "        vertical-align: top;\n",
       "    }\n",
       "\n",
       "    .dataframe thead th {\n",
       "        text-align: right;\n",
       "    }\n",
       "</style>\n",
       "<table border=\"1\" class=\"dataframe\">\n",
       "  <thead>\n",
       "    <tr style=\"text-align: right;\">\n",
       "      <th></th>\n",
       "      <th>user_id</th>\n",
       "      <th>post</th>\n",
       "      <th>topic</th>\n",
       "      <th>user_pb</th>\n",
       "      <th>pb_categories</th>\n",
       "      <th>pb_binary</th>\n",
       "    </tr>\n",
       "  </thead>\n",
       "  <tbody>\n",
       "    <tr>\n",
       "      <th>61445</th>\n",
       "      <td>a76ed6c4f319b018700503a50c333028384bf7e9976796...</td>\n",
       "      <td>I guess hackers have gained access to the US e...</td>\n",
       "      <td>r/Republican</td>\n",
       "      <td>3.000000</td>\n",
       "      <td>EXTREME_RIGHT</td>\n",
       "      <td>1</td>\n",
       "    </tr>\n",
       "    <tr>\n",
       "      <th>61455</th>\n",
       "      <td>a76ed6c4f319b018700503a50c333028384bf7e9976796...</td>\n",
       "      <td>Imagine all the corruption we don’t know about...</td>\n",
       "      <td>r/Republican</td>\n",
       "      <td>3.000000</td>\n",
       "      <td>EXTREME_RIGHT</td>\n",
       "      <td>1</td>\n",
       "    </tr>\n",
       "    <tr>\n",
       "      <th>75069</th>\n",
       "      <td>52a047dce52a2391d1987480a20159889826f2cc2eccbd...</td>\n",
       "      <td>no! Why did it not survive a GOP governor and...</td>\n",
       "      <td>r/Conservative</td>\n",
       "      <td>1.666667</td>\n",
       "      <td>EXTREME_RIGHT</td>\n",
       "      <td>1</td>\n",
       "    </tr>\n",
       "  </tbody>\n",
       "</table>\n",
       "</div>"
      ],
      "text/plain": [
       "                                                 user_id  \\\n",
       "61445  a76ed6c4f319b018700503a50c333028384bf7e9976796...   \n",
       "61455  a76ed6c4f319b018700503a50c333028384bf7e9976796...   \n",
       "75069  52a047dce52a2391d1987480a20159889826f2cc2eccbd...   \n",
       "\n",
       "                                                    post           topic  \\\n",
       "61445  I guess hackers have gained access to the US e...    r/Republican   \n",
       "61455  Imagine all the corruption we don’t know about...    r/Republican   \n",
       "75069   no! Why did it not survive a GOP governor and...  r/Conservative   \n",
       "\n",
       "        user_pb  pb_categories  pb_binary  \n",
       "61445  3.000000  EXTREME_RIGHT          1  \n",
       "61455  3.000000  EXTREME_RIGHT          1  \n",
       "75069  1.666667  EXTREME_RIGHT          1  "
      ]
     },
     "execution_count": 28,
     "metadata": {},
     "output_type": "execute_result"
    }
   ],
   "source": [
    "data_binary.head(3)"
   ]
  },
  {
   "cell_type": "code",
   "execution_count": 29,
   "id": "8bc97ac2",
   "metadata": {},
   "outputs": [],
   "source": [
    "tf_data = data_binary[[\"post\", \"pb_binary\"]]"
   ]
  },
  {
   "cell_type": "code",
   "execution_count": 30,
   "id": "fb41f80e",
   "metadata": {},
   "outputs": [],
   "source": [
    "#tf_data = tf.convert_to_tensor(tf_data)\n"
   ]
  },
  {
   "cell_type": "code",
   "execution_count": 31,
   "id": "0606c639",
   "metadata": {},
   "outputs": [],
   "source": [
    "tf_data_0 = tf_data[tf_data[\"pb_binary\"]==0]\n",
    "tf_data_1 = tf_data[tf_data[\"pb_binary\"]==1]\n"
   ]
  },
  {
   "cell_type": "code",
   "execution_count": 32,
   "id": "3ba70b3e",
   "metadata": {},
   "outputs": [
    {
     "data": {
      "text/html": [
       "<div>\n",
       "<style scoped>\n",
       "    .dataframe tbody tr th:only-of-type {\n",
       "        vertical-align: middle;\n",
       "    }\n",
       "\n",
       "    .dataframe tbody tr th {\n",
       "        vertical-align: top;\n",
       "    }\n",
       "\n",
       "    .dataframe thead th {\n",
       "        text-align: right;\n",
       "    }\n",
       "</style>\n",
       "<table border=\"1\" class=\"dataframe\">\n",
       "  <thead>\n",
       "    <tr style=\"text-align: right;\">\n",
       "      <th></th>\n",
       "      <th>post</th>\n",
       "      <th>pb_binary</th>\n",
       "    </tr>\n",
       "  </thead>\n",
       "  <tbody>\n",
       "    <tr>\n",
       "      <th>61445</th>\n",
       "      <td>I guess hackers have gained access to the US e...</td>\n",
       "      <td>1</td>\n",
       "    </tr>\n",
       "    <tr>\n",
       "      <th>61455</th>\n",
       "      <td>Imagine all the corruption we don’t know about...</td>\n",
       "      <td>1</td>\n",
       "    </tr>\n",
       "    <tr>\n",
       "      <th>75069</th>\n",
       "      <td>no! Why did it not survive a GOP governor and...</td>\n",
       "      <td>1</td>\n",
       "    </tr>\n",
       "    <tr>\n",
       "      <th>75078</th>\n",
       "      <td>1) not every lab uses the same cycle threshold...</td>\n",
       "      <td>1</td>\n",
       "    </tr>\n",
       "    <tr>\n",
       "      <th>75083</th>\n",
       "      <td>What pandemic? OHHHHH thaaaaat pandemic... the...</td>\n",
       "      <td>1</td>\n",
       "    </tr>\n",
       "    <tr>\n",
       "      <th>...</th>\n",
       "      <td>...</td>\n",
       "      <td>...</td>\n",
       "    </tr>\n",
       "    <tr>\n",
       "      <th>3126758</th>\n",
       "      <td>Not arguable - there is no contention about th...</td>\n",
       "      <td>1</td>\n",
       "    </tr>\n",
       "    <tr>\n",
       "      <th>3126759</th>\n",
       "      <td>I agree, but will add this. I believe that Mue...</td>\n",
       "      <td>1</td>\n",
       "    </tr>\n",
       "    <tr>\n",
       "      <th>3126764</th>\n",
       "      <td>According to Rachel Maddow, Trump demanding di...</td>\n",
       "      <td>1</td>\n",
       "    </tr>\n",
       "    <tr>\n",
       "      <th>3126770</th>\n",
       "      <td>July th - Trump &amp;amp; first wife ( - a Czech c...</td>\n",
       "      <td>1</td>\n",
       "    </tr>\n",
       "    <tr>\n",
       "      <th>3126781</th>\n",
       "      <td>\"With the likes of past models Melania and Iva...</td>\n",
       "      <td>1</td>\n",
       "    </tr>\n",
       "  </tbody>\n",
       "</table>\n",
       "<p>10264 rows × 2 columns</p>\n",
       "</div>"
      ],
      "text/plain": [
       "                                                      post  pb_binary\n",
       "61445    I guess hackers have gained access to the US e...          1\n",
       "61455    Imagine all the corruption we don’t know about...          1\n",
       "75069     no! Why did it not survive a GOP governor and...          1\n",
       "75078    1) not every lab uses the same cycle threshold...          1\n",
       "75083    What pandemic? OHHHHH thaaaaat pandemic... the...          1\n",
       "...                                                    ...        ...\n",
       "3126758  Not arguable - there is no contention about th...          1\n",
       "3126759  I agree, but will add this. I believe that Mue...          1\n",
       "3126764  According to Rachel Maddow, Trump demanding di...          1\n",
       "3126770  July th - Trump &amp; first wife ( - a Czech c...          1\n",
       "3126781  \"With the likes of past models Melania and Iva...          1\n",
       "\n",
       "[10264 rows x 2 columns]"
      ]
     },
     "execution_count": 32,
     "metadata": {},
     "output_type": "execute_result"
    }
   ],
   "source": [
    "tf_data_1"
   ]
  },
  {
   "cell_type": "code",
   "execution_count": 33,
   "id": "ed2f1549",
   "metadata": {
    "scrolled": true
   },
   "outputs": [
    {
     "name": "stdout",
     "output_type": "stream",
     "text": [
      "1    10264\n",
      "Name: pb_binary, dtype: int64\n"
     ]
    }
   ],
   "source": [
    "class_counts = tf_data_1.pb_binary.value_counts()\n",
    "print(class_counts)"
   ]
  },
  {
   "cell_type": "code",
   "execution_count": 34,
   "id": "2d1dd6e0",
   "metadata": {},
   "outputs": [],
   "source": [
    "from toolz import interleave"
   ]
  },
  {
   "cell_type": "code",
   "execution_count": 35,
   "id": "778325b8",
   "metadata": {},
   "outputs": [],
   "source": [
    "tf_data = pd.DataFrame(interleave([tf_data_0.values, tf_data_1.values]))"
   ]
  },
  {
   "cell_type": "code",
   "execution_count": 36,
   "id": "d69b01a8",
   "metadata": {},
   "outputs": [
    {
     "data": {
      "text/html": [
       "<div>\n",
       "<style scoped>\n",
       "    .dataframe tbody tr th:only-of-type {\n",
       "        vertical-align: middle;\n",
       "    }\n",
       "\n",
       "    .dataframe tbody tr th {\n",
       "        vertical-align: top;\n",
       "    }\n",
       "\n",
       "    .dataframe thead th {\n",
       "        text-align: right;\n",
       "    }\n",
       "</style>\n",
       "<table border=\"1\" class=\"dataframe\">\n",
       "  <thead>\n",
       "    <tr style=\"text-align: right;\">\n",
       "      <th></th>\n",
       "      <th>0</th>\n",
       "      <th>1</th>\n",
       "    </tr>\n",
       "  </thead>\n",
       "  <tbody>\n",
       "    <tr>\n",
       "      <th>0</th>\n",
       "      <td>I disagree strongly. One advantage the Republi...</td>\n",
       "      <td>0</td>\n",
       "    </tr>\n",
       "    <tr>\n",
       "      <th>1</th>\n",
       "      <td>I guess hackers have gained access to the US e...</td>\n",
       "      <td>1</td>\n",
       "    </tr>\n",
       "    <tr>\n",
       "      <th>2</th>\n",
       "      <td>know it’s small potatoes compared to everythi...</td>\n",
       "      <td>0</td>\n",
       "    </tr>\n",
       "    <tr>\n",
       "      <th>3</th>\n",
       "      <td>Imagine all the corruption we don’t know about...</td>\n",
       "      <td>1</td>\n",
       "    </tr>\n",
       "    <tr>\n",
       "      <th>4</th>\n",
       "      <td>The headline also noted the implication of th...</td>\n",
       "      <td>0</td>\n",
       "    </tr>\n",
       "    <tr>\n",
       "      <th>...</th>\n",
       "      <td>...</td>\n",
       "      <td>...</td>\n",
       "    </tr>\n",
       "    <tr>\n",
       "      <th>20523</th>\n",
       "      <td>According to Rachel Maddow, Trump demanding di...</td>\n",
       "      <td>1</td>\n",
       "    </tr>\n",
       "    <tr>\n",
       "      <th>20524</th>\n",
       "      <td>This is what I was talking about — this infowa...</td>\n",
       "      <td>0</td>\n",
       "    </tr>\n",
       "    <tr>\n",
       "      <th>20525</th>\n",
       "      <td>July th - Trump &amp;amp; first wife ( - a Czech c...</td>\n",
       "      <td>1</td>\n",
       "    </tr>\n",
       "    <tr>\n",
       "      <th>20526</th>\n",
       "      <td>Wait, what? Are you saying that if an American...</td>\n",
       "      <td>0</td>\n",
       "    </tr>\n",
       "    <tr>\n",
       "      <th>20527</th>\n",
       "      <td>\"With the likes of past models Melania and Iva...</td>\n",
       "      <td>1</td>\n",
       "    </tr>\n",
       "  </tbody>\n",
       "</table>\n",
       "<p>20528 rows × 2 columns</p>\n",
       "</div>"
      ],
      "text/plain": [
       "                                                       0  1\n",
       "0      I disagree strongly. One advantage the Republi...  0\n",
       "1      I guess hackers have gained access to the US e...  1\n",
       "2       know it’s small potatoes compared to everythi...  0\n",
       "3      Imagine all the corruption we don’t know about...  1\n",
       "4       The headline also noted the implication of th...  0\n",
       "...                                                  ... ..\n",
       "20523  According to Rachel Maddow, Trump demanding di...  1\n",
       "20524  This is what I was talking about — this infowa...  0\n",
       "20525  July th - Trump &amp; first wife ( - a Czech c...  1\n",
       "20526  Wait, what? Are you saying that if an American...  0\n",
       "20527  \"With the likes of past models Melania and Iva...  1\n",
       "\n",
       "[20528 rows x 2 columns]"
      ]
     },
     "execution_count": 36,
     "metadata": {},
     "output_type": "execute_result"
    }
   ],
   "source": [
    "tf_data"
   ]
  },
  {
   "cell_type": "code",
   "execution_count": 37,
   "id": "604e1cfa",
   "metadata": {},
   "outputs": [],
   "source": [
    "tf_data = tf_data.rename(columns={0:\"post\",1:\"pb_binary\"})"
   ]
  },
  {
   "cell_type": "markdown",
   "id": "b4b0a144",
   "metadata": {},
   "source": [
    "## Convert to TensorFlow Dataset"
   ]
  },
  {
   "cell_type": "code",
   "execution_count": 38,
   "id": "eb060c6a",
   "metadata": {},
   "outputs": [],
   "source": [
    "#tf_data = data_binary[[\"post\", \"pb_binary\"]]\n",
    "target = tf_data.pop(\"pb_binary\")\n",
    "\n",
    "#target = data_binary[\"pb_binary\"]\n",
    "\n",
    "#Post,labels = list(train[\"post\"]), list(train.pop(\"pb_binary\"))\n",
    "#dataset = tf.data.Dataset.from_tensor_slices(Post, labels)\n",
    "\n"
   ]
  },
  {
   "cell_type": "code",
   "execution_count": 39,
   "id": "e87fdfb2",
   "metadata": {
    "scrolled": true
   },
   "outputs": [
    {
     "data": {
      "text/html": [
       "<div>\n",
       "<style scoped>\n",
       "    .dataframe tbody tr th:only-of-type {\n",
       "        vertical-align: middle;\n",
       "    }\n",
       "\n",
       "    .dataframe tbody tr th {\n",
       "        vertical-align: top;\n",
       "    }\n",
       "\n",
       "    .dataframe thead th {\n",
       "        text-align: right;\n",
       "    }\n",
       "</style>\n",
       "<table border=\"1\" class=\"dataframe\">\n",
       "  <thead>\n",
       "    <tr style=\"text-align: right;\">\n",
       "      <th></th>\n",
       "      <th>post</th>\n",
       "    </tr>\n",
       "  </thead>\n",
       "  <tbody>\n",
       "    <tr>\n",
       "      <th>0</th>\n",
       "      <td>I disagree strongly. One advantage the Republi...</td>\n",
       "    </tr>\n",
       "    <tr>\n",
       "      <th>1</th>\n",
       "      <td>I guess hackers have gained access to the US e...</td>\n",
       "    </tr>\n",
       "    <tr>\n",
       "      <th>2</th>\n",
       "      <td>know it’s small potatoes compared to everythi...</td>\n",
       "    </tr>\n",
       "    <tr>\n",
       "      <th>3</th>\n",
       "      <td>Imagine all the corruption we don’t know about...</td>\n",
       "    </tr>\n",
       "    <tr>\n",
       "      <th>4</th>\n",
       "      <td>The headline also noted the implication of th...</td>\n",
       "    </tr>\n",
       "    <tr>\n",
       "      <th>...</th>\n",
       "      <td>...</td>\n",
       "    </tr>\n",
       "    <tr>\n",
       "      <th>20523</th>\n",
       "      <td>According to Rachel Maddow, Trump demanding di...</td>\n",
       "    </tr>\n",
       "    <tr>\n",
       "      <th>20524</th>\n",
       "      <td>This is what I was talking about — this infowa...</td>\n",
       "    </tr>\n",
       "    <tr>\n",
       "      <th>20525</th>\n",
       "      <td>July th - Trump &amp;amp; first wife ( - a Czech c...</td>\n",
       "    </tr>\n",
       "    <tr>\n",
       "      <th>20526</th>\n",
       "      <td>Wait, what? Are you saying that if an American...</td>\n",
       "    </tr>\n",
       "    <tr>\n",
       "      <th>20527</th>\n",
       "      <td>\"With the likes of past models Melania and Iva...</td>\n",
       "    </tr>\n",
       "  </tbody>\n",
       "</table>\n",
       "<p>20528 rows × 1 columns</p>\n",
       "</div>"
      ],
      "text/plain": [
       "                                                    post\n",
       "0      I disagree strongly. One advantage the Republi...\n",
       "1      I guess hackers have gained access to the US e...\n",
       "2       know it’s small potatoes compared to everythi...\n",
       "3      Imagine all the corruption we don’t know about...\n",
       "4       The headline also noted the implication of th...\n",
       "...                                                  ...\n",
       "20523  According to Rachel Maddow, Trump demanding di...\n",
       "20524  This is what I was talking about — this infowa...\n",
       "20525  July th - Trump &amp; first wife ( - a Czech c...\n",
       "20526  Wait, what? Are you saying that if an American...\n",
       "20527  \"With the likes of past models Melania and Iva...\n",
       "\n",
       "[20528 rows x 1 columns]"
      ]
     },
     "execution_count": 39,
     "metadata": {},
     "output_type": "execute_result"
    }
   ],
   "source": [
    "tf_data"
   ]
  },
  {
   "cell_type": "code",
   "execution_count": 40,
   "id": "ad0d4e0d",
   "metadata": {},
   "outputs": [
    {
     "data": {
      "text/plain": [
       "0        0\n",
       "1        1\n",
       "2        0\n",
       "3        1\n",
       "4        0\n",
       "        ..\n",
       "20523    1\n",
       "20524    0\n",
       "20525    1\n",
       "20526    0\n",
       "20527    1\n",
       "Name: pb_binary, Length: 20528, dtype: int64"
      ]
     },
     "execution_count": 40,
     "metadata": {},
     "output_type": "execute_result"
    }
   ],
   "source": [
    "target"
   ]
  },
  {
   "cell_type": "code",
   "execution_count": 41,
   "id": "eaa5f78d",
   "metadata": {},
   "outputs": [],
   "source": [
    "target = np.asarray(target).astype('int32').reshape((-1,1))"
   ]
  },
  {
   "cell_type": "code",
   "execution_count": 42,
   "id": "6f9b642a",
   "metadata": {},
   "outputs": [
    {
     "data": {
      "text/plain": [
       "array([[0],\n",
       "       [1],\n",
       "       [0],\n",
       "       ...,\n",
       "       [1],\n",
       "       [0],\n",
       "       [1]], dtype=int32)"
      ]
     },
     "execution_count": 42,
     "metadata": {},
     "output_type": "execute_result"
    }
   ],
   "source": [
    "target"
   ]
  },
  {
   "cell_type": "code",
   "execution_count": null,
   "id": "fefec736",
   "metadata": {},
   "outputs": [],
   "source": [
    "\n"
   ]
  },
  {
   "cell_type": "code",
   "execution_count": 43,
   "id": "42065c8f",
   "metadata": {},
   "outputs": [
    {
     "data": {
      "text/html": [
       "<div>\n",
       "<style scoped>\n",
       "    .dataframe tbody tr th:only-of-type {\n",
       "        vertical-align: middle;\n",
       "    }\n",
       "\n",
       "    .dataframe tbody tr th {\n",
       "        vertical-align: top;\n",
       "    }\n",
       "\n",
       "    .dataframe thead th {\n",
       "        text-align: right;\n",
       "    }\n",
       "</style>\n",
       "<table border=\"1\" class=\"dataframe\">\n",
       "  <thead>\n",
       "    <tr style=\"text-align: right;\">\n",
       "      <th></th>\n",
       "      <th>post</th>\n",
       "    </tr>\n",
       "  </thead>\n",
       "  <tbody>\n",
       "    <tr>\n",
       "      <th>0</th>\n",
       "      <td>I disagree strongly. One advantage the Republi...</td>\n",
       "    </tr>\n",
       "    <tr>\n",
       "      <th>1</th>\n",
       "      <td>I guess hackers have gained access to the US e...</td>\n",
       "    </tr>\n",
       "    <tr>\n",
       "      <th>2</th>\n",
       "      <td>know it’s small potatoes compared to everythi...</td>\n",
       "    </tr>\n",
       "    <tr>\n",
       "      <th>3</th>\n",
       "      <td>Imagine all the corruption we don’t know about...</td>\n",
       "    </tr>\n",
       "    <tr>\n",
       "      <th>4</th>\n",
       "      <td>The headline also noted the implication of th...</td>\n",
       "    </tr>\n",
       "    <tr>\n",
       "      <th>...</th>\n",
       "      <td>...</td>\n",
       "    </tr>\n",
       "    <tr>\n",
       "      <th>20523</th>\n",
       "      <td>According to Rachel Maddow, Trump demanding di...</td>\n",
       "    </tr>\n",
       "    <tr>\n",
       "      <th>20524</th>\n",
       "      <td>This is what I was talking about — this infowa...</td>\n",
       "    </tr>\n",
       "    <tr>\n",
       "      <th>20525</th>\n",
       "      <td>July th - Trump &amp;amp; first wife ( - a Czech c...</td>\n",
       "    </tr>\n",
       "    <tr>\n",
       "      <th>20526</th>\n",
       "      <td>Wait, what? Are you saying that if an American...</td>\n",
       "    </tr>\n",
       "    <tr>\n",
       "      <th>20527</th>\n",
       "      <td>\"With the likes of past models Melania and Iva...</td>\n",
       "    </tr>\n",
       "  </tbody>\n",
       "</table>\n",
       "<p>20528 rows × 1 columns</p>\n",
       "</div>"
      ],
      "text/plain": [
       "                                                    post\n",
       "0      I disagree strongly. One advantage the Republi...\n",
       "1      I guess hackers have gained access to the US e...\n",
       "2       know it’s small potatoes compared to everythi...\n",
       "3      Imagine all the corruption we don’t know about...\n",
       "4       The headline also noted the implication of th...\n",
       "...                                                  ...\n",
       "20523  According to Rachel Maddow, Trump demanding di...\n",
       "20524  This is what I was talking about — this infowa...\n",
       "20525  July th - Trump &amp; first wife ( - a Czech c...\n",
       "20526  Wait, what? Are you saying that if an American...\n",
       "20527  \"With the likes of past models Melania and Iva...\n",
       "\n",
       "[20528 rows x 1 columns]"
      ]
     },
     "execution_count": 43,
     "metadata": {},
     "output_type": "execute_result"
    }
   ],
   "source": [
    "tf_data"
   ]
  },
  {
   "cell_type": "code",
   "execution_count": 44,
   "id": "3f985c26",
   "metadata": {},
   "outputs": [
    {
     "name": "stderr",
     "output_type": "stream",
     "text": [
      "2022-05-29 18:08:35.146259: I tensorflow/core/platform/cpu_feature_guard.cc:193] This TensorFlow binary is optimized with oneAPI Deep Neural Network Library (oneDNN) to use the following CPU instructions in performance-critical operations:  AVX2 FMA\n",
      "To enable them in other operations, rebuild TensorFlow with the appropriate compiler flags.\n",
      "2022-05-29 18:08:36.966325: I tensorflow/core/common_runtime/gpu/gpu_device.cc:1532] Created device /job:localhost/replica:0/task:0/device:GPU:0 with 38418 MB memory:  -> device: 0, name: NVIDIA A100-PCIE-40GB, pci bus id: 0000:41:00.0, compute capability: 8.0\n",
      "2022-05-29 18:08:36.968306: I tensorflow/core/common_runtime/gpu/gpu_device.cc:1532] Created device /job:localhost/replica:0/task:0/device:GPU:1 with 38418 MB memory:  -> device: 1, name: NVIDIA A100-PCIE-40GB, pci bus id: 0000:61:00.0, compute capability: 8.0\n",
      "2022-05-29 18:08:36.970153: I tensorflow/core/common_runtime/gpu/gpu_device.cc:1532] Created device /job:localhost/replica:0/task:0/device:GPU:2 with 38418 MB memory:  -> device: 2, name: NVIDIA A100-PCIE-40GB, pci bus id: 0000:81:00.0, compute capability: 8.0\n",
      "2022-05-29 18:08:36.971985: I tensorflow/core/common_runtime/gpu/gpu_device.cc:1532] Created device /job:localhost/replica:0/task:0/device:GPU:3 with 38418 MB memory:  -> device: 3, name: NVIDIA A100-PCIE-40GB, pci bus id: 0000:a1:00.0, compute capability: 8.0\n"
     ]
    }
   ],
   "source": [
    "dataset = tf.data.Dataset.from_tensor_slices((tf_data.values, target))\n"
   ]
  },
  {
   "cell_type": "code",
   "execution_count": 45,
   "id": "c5cde63b",
   "metadata": {},
   "outputs": [
    {
     "name": "stdout",
     "output_type": "stream",
     "text": [
      "(<tf.Tensor: shape=(1,), dtype=string, numpy=\n",
      "array([b\"I disagree strongly. One advantage the Republicans have over the Democrats is extreme loyalty and solidity on their issues. OTOH, usually there's a gaggle of centrist Democrats who are happy to vote with Republicans when the need arises. We need to call these fuckers out, primary them, and get them out of office. If we need to make an example of some of them to set the tone, that's a good thing.\"],\n",
      "      dtype=object)>, <tf.Tensor: shape=(1,), dtype=int32, numpy=array([0], dtype=int32)>)\n",
      "(<tf.Tensor: shape=(1,), dtype=string, numpy=\n",
      "array([b'I guess hackers have gained access to the US election. Don\\xe2\\x80\\x99t worry though CISA is on top of it! CISA is another tech company ran by a former Microsoft executive. Microsoft has a new election system software package called ElectionGuard. Imagine that, leftist progressive tech companies have the election under control to stop \\xe2\\x80\\x9cthe hackers\\xe2\\x80\\x9d. Ridiculous.'],\n",
      "      dtype=object)>, <tf.Tensor: shape=(1,), dtype=int32, numpy=array([1], dtype=int32)>)\n",
      "(<tf.Tensor: shape=(1,), dtype=string, numpy=\n",
      "array([b' know it\\xe2\\x80\\x99s small potatoes compared to everything else, but at least it\\xe2\\x80\\x99s some form of the return to normalcy! This whole thing has about ,000,000 to worry for me. When will we come out? What if when we *do* have a real \"fuck you\" contagion going around (Google \"Chronic Wasting Disease\" and imagine if that made the jump to humans) we don\\'t pay attention to it because COVID theater made us not care?'],\n",
      "      dtype=object)>, <tf.Tensor: shape=(1,), dtype=int32, numpy=array([0], dtype=int32)>)\n"
     ]
    }
   ],
   "source": [
    "for item in dataset.take(3):\n",
    "    print(item)"
   ]
  },
  {
   "cell_type": "markdown",
   "id": "35e6b63d",
   "metadata": {},
   "source": [
    "## Split Dataset"
   ]
  },
  {
   "cell_type": "code",
   "execution_count": 46,
   "id": "65531b8e",
   "metadata": {},
   "outputs": [],
   "source": [
    "def get_dataset_partitions_tf(ds, ds_size, train_split=0.8, val_split=0.1, test_split=0.1, shuffle=True, shuffle_size=20528):\n",
    "    assert (train_split + test_split + val_split) == 1\n",
    "    \n",
    "    if shuffle:\n",
    "        # Specify seed to always have the same split distribution between runs\n",
    "        ds = ds.shuffle(shuffle_size, seed=12)\n",
    "    \n",
    "    train_size = int(train_split * ds_size)\n",
    "    val_size = int(val_split * ds_size)\n",
    "    \n",
    "    train_ds = ds.take(train_size)    \n",
    "    val_ds = ds.skip(train_size).take(val_size)\n",
    "    test_ds = ds.skip(train_size).skip(val_size)\n",
    "    \n",
    "    return train_ds, val_ds, test_ds"
   ]
  },
  {
   "cell_type": "code",
   "execution_count": 47,
   "id": "28172d88",
   "metadata": {},
   "outputs": [],
   "source": [
    "train_ds, val_ds, test_ds = get_dataset_partitions_tf(dataset, len(dataset))"
   ]
  },
  {
   "cell_type": "code",
   "execution_count": 48,
   "id": "f4c020e8",
   "metadata": {},
   "outputs": [
    {
     "data": {
      "text/plain": [
       "<TensorSliceDataset element_spec=(TensorSpec(shape=(1,), dtype=tf.string, name=None), TensorSpec(shape=(1,), dtype=tf.int32, name=None))>"
      ]
     },
     "execution_count": 48,
     "metadata": {},
     "output_type": "execute_result"
    }
   ],
   "source": [
    "dataset"
   ]
  },
  {
   "cell_type": "code",
   "execution_count": null,
   "id": "dca87117",
   "metadata": {},
   "outputs": [],
   "source": []
  },
  {
   "cell_type": "code",
   "execution_count": null,
   "id": "d8ca14c6",
   "metadata": {},
   "outputs": [],
   "source": []
  },
  {
   "cell_type": "code",
   "execution_count": null,
   "id": "b0c2d7f5",
   "metadata": {},
   "outputs": [],
   "source": []
  },
  {
   "cell_type": "code",
   "execution_count": 49,
   "id": "f009bd06",
   "metadata": {},
   "outputs": [],
   "source": [
    "preprocessor = hub.KerasLayer(\n",
    "    \"https://tfhub.dev/tensorflow/bert_en_uncased_preprocess/3\")\n",
    "\n",
    "encoder_loaded = hub.KerasLayer(\n",
    "    \"https://tfhub.dev/tensorflow/bert_en_uncased_L-12_H-768_A-12/4\",\n",
    "    trainable=True)"
   ]
  },
  {
   "cell_type": "code",
   "execution_count": 50,
   "id": "f79cb003",
   "metadata": {},
   "outputs": [],
   "source": [
    "def build_classifier_model():\n",
    "    text_input = tf.keras.layers.Input(shape=(), dtype=tf.string, name='text')  # shape definition ? () = none ?\n",
    "    preprocessing_layer = hub.KerasLayer(preprocessor, name='preprocessing')\n",
    "    encoder_inputs = preprocessing_layer(text_input)\n",
    "    encoder = hub.KerasLayer(encoder_loaded, trainable=True, name='BERT_encoder')\n",
    "    outputs = encoder(encoder_inputs)\n",
    "    net = outputs['pooled_output']\n",
    "    net = tf.keras.layers.Dropout(0.1)(net)\n",
    "    net = tf.keras.layers.Dense(1, activation=None, name='classifier')(net)\n",
    "    return tf.keras.Model(text_input, net)"
   ]
  },
  {
   "cell_type": "code",
   "execution_count": 51,
   "id": "f69f0680",
   "metadata": {},
   "outputs": [
    {
     "data": {
      "text/plain": [
       "1    he's not deteriorating, he just does not care ...\n",
       "Name: post, dtype: object"
      ]
     },
     "execution_count": 51,
     "metadata": {},
     "output_type": "execute_result"
    }
   ],
   "source": [
    "text_test = data[\"post\"][1:2]\n",
    "text_test"
   ]
  },
  {
   "cell_type": "code",
   "execution_count": 52,
   "id": "d7318db0",
   "metadata": {},
   "outputs": [
    {
     "name": "stdout",
     "output_type": "stream",
     "text": [
      "tf.Tensor([[0.35802212]], shape=(1, 1), dtype=float32)\n"
     ]
    },
    {
     "name": "stderr",
     "output_type": "stream",
     "text": [
      "2022-05-29 18:08:48.322521: I tensorflow/stream_executor/cuda/cuda_blas.cc:1786] TensorFloat-32 will be used for the matrix multiplication. This will only be logged once.\n"
     ]
    }
   ],
   "source": [
    "classifier_model = build_classifier_model()\n",
    "bert_raw_result = classifier_model(tf.constant(text_test))\n",
    "print(tf.sigmoid(bert_raw_result))"
   ]
  },
  {
   "cell_type": "code",
   "execution_count": 53,
   "id": "345e078c",
   "metadata": {},
   "outputs": [],
   "source": [
    "loss = tf.keras.losses.BinaryCrossentropy(from_logits=True)\n",
    "metrics = tf.metrics.BinaryAccuracy()"
   ]
  },
  {
   "cell_type": "code",
   "execution_count": 54,
   "id": "4248fecb",
   "metadata": {},
   "outputs": [],
   "source": [
    "epochs = 2\n",
    "steps_per_epoch = tf.data.experimental.cardinality(train_ds).numpy()\n",
    "num_train_steps = steps_per_epoch * epochs\n",
    "num_warmup_steps = int(0.1*num_train_steps)\n",
    "\n",
    "init_lr = 3e-5\n",
    "optimizer = optimization.create_optimizer(init_lr=init_lr,\n",
    "                                          num_train_steps=num_train_steps,\n",
    "                                          num_warmup_steps=num_warmup_steps,\n",
    "                                          optimizer_type='adamw')"
   ]
  },
  {
   "cell_type": "code",
   "execution_count": 55,
   "id": "5e6db5ac",
   "metadata": {},
   "outputs": [],
   "source": [
    "classifier_model.compile(optimizer=optimizer,\n",
    "                         loss=loss,\n",
    "                         metrics=metrics)"
   ]
  },
  {
   "cell_type": "code",
   "execution_count": null,
   "id": "ad5d2ca5",
   "metadata": {},
   "outputs": [
    {
     "name": "stdout",
     "output_type": "stream",
     "text": [
      "Epoch 1/2\n",
      "16422/16422 [==============================] - 720s 43ms/step - loss: 1.0111 - binary_accuracy: 0.5017 - val_loss: 0.7196 - val_binary_accuracy: 0.5044\n",
      "Epoch 2/2\n",
      "16167/16422 [============================>.] - ETA: 10s - loss: 1.0715 - binary_accuracy: 0.4977"
     ]
    }
   ],
   "source": [
    "history = classifier_model.fit(x=train_ds,\n",
    "                               validation_data=val_ds,\n",
    "                               epochs=epochs)"
   ]
  },
  {
   "cell_type": "code",
   "execution_count": null,
   "id": "92fc32f4",
   "metadata": {},
   "outputs": [],
   "source": [
    "history\n"
   ]
  },
  {
   "cell_type": "code",
   "execution_count": null,
   "id": "f2355bde",
   "metadata": {},
   "outputs": [],
   "source": [
    "classifier_model.predict()"
   ]
  },
  {
   "cell_type": "code",
   "execution_count": null,
   "id": "fd92e8fc",
   "metadata": {},
   "outputs": [],
   "source": [
    "loss, accuracy = classifier_model.evaluate(test_ds)\n",
    "\n",
    "print(f'Loss: {loss}')\n",
    "print(f'Accuracy: {accuracy}')"
   ]
  },
  {
   "cell_type": "code",
   "execution_count": null,
   "id": "272b3477",
   "metadata": {},
   "outputs": [],
   "source": [
    "import matplotlib.pyplot as plt\n",
    "\n",
    "history_dict = history.history\n",
    "print(history_dict.keys())\n",
    "\n",
    "acc = history_dict['binary_accuracy']\n",
    "val_acc = history_dict['val_binary_accuracy']\n",
    "loss = history_dict['loss']\n",
    "val_loss = history_dict['val_loss']\n",
    "\n",
    "epochs = range(1, len(acc) + 1)\n",
    "fig = plt.figure(figsize=(10, 6))\n",
    "fig.tight_layout()\n",
    "\n",
    "plt.subplot(2, 1, 1)\n",
    "# r is for \"solid red line\"\n",
    "plt.plot(epochs, loss, 'r', label='Training loss')\n",
    "# b is for \"solid blue line\"\n",
    "plt.plot(epochs, val_loss, 'b', label='Validation loss')\n",
    "plt.title('Training and validation loss')\n",
    "# plt.xlabel('Epochs')\n",
    "plt.ylabel('Loss')\n",
    "plt.legend()\n",
    "\n",
    "plt.subplot(2, 1, 2)\n",
    "plt.plot(epochs, acc, 'r', label='Training acc')\n",
    "plt.plot(epochs, val_acc, 'b', label='Validation acc')\n",
    "plt.title('Training and validation accuracy')\n",
    "plt.xlabel('Epochs')\n",
    "plt.ylabel('Accuracy')\n",
    "plt.legend(loc='lower right')"
   ]
  },
  {
   "cell_type": "code",
   "execution_count": null,
   "id": "06497e01",
   "metadata": {},
   "outputs": [],
   "source": [
    "classifier_model.save(\"./factoid_bert_small\", include_optimizer=False)"
   ]
  },
  {
   "cell_type": "code",
   "execution_count": null,
   "id": "c1716f59",
   "metadata": {},
   "outputs": [],
   "source": [
    "reloaded_model = tf.saved_model.load(\"./factoid_bert\")"
   ]
  },
  {
   "cell_type": "code",
   "execution_count": null,
   "id": "5b35fa9e",
   "metadata": {},
   "outputs": [],
   "source": [
    "examples = [len(test_ds)]\n",
    "\n",
    "for item in test_ds:\n",
    "    examples.append(str(item[0].numpy()[0]))\n",
    "   "
   ]
  },
  {
   "cell_type": "code",
   "execution_count": null,
   "id": "0d5e2460",
   "metadata": {},
   "outputs": [],
   "source": [
    "examples = [\n",
    "    \"My German countrymen, men and women, (long pause) Changes of Government have occurred frequently in history, and in the history of our people. It is certain, however, that never was a change of Government attended with such far-reaching results as that eight years ago. At that time the situation of the Reich was desperate. We were called upon to take over the leadership of the nation at a moment when it did not seem to develop towards a great rise. We were given power in circumstances of the greatest conceivable pressure, the pressure of the knowledge that, by itself, everything was lost, and that, in the eyes of the noblest minds, this represented a last attempt, while in the eyes of evil-wishers it should condemn the National-Socialist Movement to final failure. Unless the German nation could be saved, by a miracle, the situation was bound to end in disaster. For during a period of 15 years, events had moved downwards without respite. On the other hand, this situation was only the result of the World War: of the outcome of the World War, of our own internal, political, moral, and military collapse. For these reasons it is particularly important on a day like this to think back to the course of that entire national misfortune.What was the cause of the World War? I do not want to explain it from the personal aspect, about which so many treatises have been written. Ordered by the present President Roosevelt, American scholars have investigated the cause of the World War and made sure that there could be no German guilt. In moments of so great importance in contemporary history, individuals can play a significant part only if they enter the scene as really outstanding personalities. This was not then the case. Neither on the German nor on the other side were there personalities cast in an unusual mould. The cause, therefore, could not be due to the failure or to the will of individuals. The reasons went deeper. The German form of government, certainly, could not have been the cause of that war, for Germany was a democracy already-and what a democracy! Strictly copied from the western countries, it was compromise between monarchy and parliamentary leadership. On account of its form of government then, this State could certainly not be the cause of the war waged by the democracies against the Reich as it was then. Germany, considered as a political factor in the world, was much more of a cause, for after centuries of disruption and ensuing weakness, the German tribes and states had at last combined into a new State which naturally introduced a new element into the so-called Balance of Power, an element which was regarded as an alien body by others. Even more potent, perhaps was dislike of the Reich as an economic factor. After Germany had tried for centuries to remedy her economic distress by letting people gradually starve or forcing them to emigrate, the increasing consolidation of the, political power of the Reich gave rise to a development of economic power. Germany began to export commodities rather than men, thereby securing the necessary markets in the world, a process, natural and just from our point of view, but others regarded it as encroachment into their most sacred domains.Here we come to the State which regarded this encroachment as intolerable-England.Three hundred years earlier England had gradually built her Empire, not perhaps through the free will or the unanimous demonstrations of those affected, but for 300 years this World Empire was welded together solely by force. War followed war. One nation after another was robbed of its freedom-one state after another was shattered so that the structure which calls itself the British Empire might arise. Democracy was nothing but a mask covering subjugation and the oppression of nations and individuals. This State cannot allow its members to vote if today, after they have been worked upon for centuries, they should freely choose to be members of this Commonwealth. On the contrary, Egyptian Nationalists, Indian Nationalists in their thousands are filling the prisons. Concentration camps were not invented in Germany; it is the English who were the ingenious inventors of this idea. By these means they contrived to break the backbone of other nations, to remove their resistance, to wear them down, and make them prepared at last to submit to this British yoke of democracy.\"\n",
    "]"
   ]
  },
  {
   "cell_type": "code",
   "execution_count": null,
   "id": "4d71fad1",
   "metadata": {
    "scrolled": true
   },
   "outputs": [],
   "source": [
    "def print_my_examples(inputs, results):\n",
    "    result_for_printing = \\\n",
    "    [f'input: {inputs[i]:<30} : score: {results[i][0]:.6f}'\n",
    "                         for i in range(len(inputs))]\n",
    "    print(*result_for_printing, sep='\\n')\n",
    "    print()\n",
    "\n",
    "\n",
    "\n",
    "\n",
    "reloaded_results = tf.sigmoid(reloaded_model(tf.constant(examples)))\n",
    "original_results = tf.sigmoid(classifier_model(tf.constant(examples)))\n",
    "\n",
    "print('Results from the saved model:')\n",
    "print_my_examples(examples, reloaded_results)\n",
    "print('Results from the model in memory:')\n",
    "print_my_examples(examples, original_results)"
   ]
  },
  {
   "cell_type": "code",
   "execution_count": null,
   "id": "6cdfb831",
   "metadata": {},
   "outputs": [],
   "source": []
  }
 ],
 "metadata": {
  "kernelspec": {
   "display_name": "Python 3 (ipykernel)",
   "language": "python",
   "name": "python3"
  },
  "language_info": {
   "codemirror_mode": {
    "name": "ipython",
    "version": 3
   },
   "file_extension": ".py",
   "mimetype": "text/x-python",
   "name": "python",
   "nbconvert_exporter": "python",
   "pygments_lexer": "ipython3",
   "version": "3.9.12"
  }
 },
 "nbformat": 4,
 "nbformat_minor": 5
}
